{
 "cells": [
  {
   "cell_type": "markdown",
   "id": "936ea1a9-a676-4667-bde2-26665623b8d2",
   "metadata": {},
   "source": [
    "# Introduction"
   ]
  },
  {
   "cell_type": "markdown",
   "id": "7644d4b0-c7f1-439b-a26e-265229ea9785",
   "metadata": {},
   "source": [
    "All machine learning models or algorithms work on data.\n",
    "\n",
    "Machine learning model results in inaccurate conclusions when:\n",
    "\n",
    "* The data is incorrect\n",
    "* The data contains abnormal values\n",
    "* The data contains duplicate rows\n",
    "\n",
    "The data has to be analysed and clean before it is given to the Machine Learning model. \n",
    "\n",
    "The process of analyzing the datasets to summarize their main features using numerical and visual methods is called Exploratory Data Analysis (EDA).\n",
    "\n",
    "The numerical methods of data analysis includes descriptive statistics.\n",
    "\n",
    "**Advantages of Exploratory Data Analysis**\n",
    "\n",
    "1. Provides better understanding of data.\n",
    "2. Possible to identify the relationships between various data elements (attributes).\n",
    "3. Possible to recognnize patterns in the data\n",
    "4. Possible to clean, modify, delete the data, thus making the data useful for the Machine Learning model.\n",
    "\n",
    "Generally, the following tasks are done as part of EDA:\n",
    "\n",
    "* Know the initial details of the data\n",
    "* Modify or remove unwanted data\n",
    "* Retrieve the required attributes/variables\n",
    "* Plotting graphs"
   ]
  },
  {
   "cell_type": "markdown",
   "id": "a395d337-9e77-46fa-bd3a-1aeec9e2793a",
   "metadata": {},
   "source": [
    "# Data"
   ]
  },
  {
   "cell_type": "markdown",
   "id": "e5596fd3-911e-40c9-a23f-5d8f48211401",
   "metadata": {},
   "source": [
    "Data is a unit of information in structured, semi-structured or unstructured format."
   ]
  },
  {
   "cell_type": "markdown",
   "id": "a1b7e045-5774-43b2-801b-721d6333ee3e",
   "metadata": {},
   "source": [
    "# Dataset"
   ]
  },
  {
   "cell_type": "markdown",
   "id": "c9f5be07-7ce7-4866-9a14-2d19a9a87cac",
   "metadata": {},
   "source": [
    "A dataset is a rows of data that is being analysed and used by a Machine Learning model.\n",
    "\n",
    "https://www.kaggle.com/ is a world renowned company to find various Datasets with coding examples on how to use these datasets."
   ]
  },
  {
   "cell_type": "markdown",
   "id": "a0066eb3-365c-4780-aebf-151b682fa9d3",
   "metadata": {},
   "source": [
    "# Exploratory Data Analysis using Cars.csv"
   ]
  },
  {
   "cell_type": "markdown",
   "id": "5335138b-c2bd-494b-bcf2-676f894a2da7",
   "metadata": {},
   "source": [
    "## Imports"
   ]
  },
  {
   "cell_type": "code",
   "execution_count": 1,
   "id": "37a6899f-b207-4470-8bcb-02492d7219b1",
   "metadata": {},
   "outputs": [],
   "source": [
    "import numpy as np\n",
    "import pandas as pd\n",
    "import matplotlib.pyplot as plt\n",
    "import seaborn as sns"
   ]
  },
  {
   "cell_type": "markdown",
   "id": "936d4e8b-ea2e-4fde-a2a9-b53bd9b34886",
   "metadata": {},
   "source": [
    "## Reading the data from the file"
   ]
  },
  {
   "cell_type": "code",
   "execution_count": 2,
   "id": "1b83c364-8040-4d5d-baef-6aec90833df8",
   "metadata": {},
   "outputs": [],
   "source": [
    "cars_df = pd.read_csv(\"./datasets/cars.csv\")"
   ]
  },
  {
   "cell_type": "markdown",
   "id": "3ce155c1-be9e-437d-8873-343d89817036",
   "metadata": {},
   "source": [
    "## Knowing the Initial Details About the Data"
   ]
  },
  {
   "cell_type": "markdown",
   "id": "99222a81-d835-45df-86f3-915aa85e450b",
   "metadata": {},
   "source": [
    "### Get the number of rows and columsn present in the given dataset"
   ]
  },
  {
   "cell_type": "code",
   "execution_count": 3,
   "id": "bd1ac293-f3ec-4a30-b59b-c6f46fbff276",
   "metadata": {},
   "outputs": [
    {
     "data": {
      "text/plain": [
       "(429, 15)"
      ]
     },
     "execution_count": 3,
     "metadata": {},
     "output_type": "execute_result"
    }
   ],
   "source": [
    "cars_df.shape"
   ]
  },
  {
   "cell_type": "markdown",
   "id": "af2c38d4-0bfb-4a19-b667-8feb906d3555",
   "metadata": {},
   "source": [
    "### Get the column names and their data types"
   ]
  },
  {
   "cell_type": "code",
   "execution_count": 4,
   "id": "beecded0-0f93-4e83-919f-385ae5e25da8",
   "metadata": {},
   "outputs": [
    {
     "name": "stdout",
     "output_type": "stream",
     "text": [
      "<class 'pandas.core.frame.DataFrame'>\n",
      "RangeIndex: 429 entries, 0 to 428\n",
      "Data columns (total 15 columns):\n",
      " #   Column       Non-Null Count  Dtype  \n",
      "---  ------       --------------  -----  \n",
      " 0   Make         429 non-null    object \n",
      " 1   Model        429 non-null    object \n",
      " 2   Type         429 non-null    object \n",
      " 3   Origin       429 non-null    object \n",
      " 4   DriveTrain   429 non-null    object \n",
      " 5   MSRP         429 non-null    object \n",
      " 6   Invoice      429 non-null    object \n",
      " 7   EngineSize   429 non-null    float64\n",
      " 8   Cylinders    427 non-null    float64\n",
      " 9   Horsepower   429 non-null    int64  \n",
      " 10  MPG_City     429 non-null    int64  \n",
      " 11  MPG_Highway  429 non-null    int64  \n",
      " 12  Weight       429 non-null    int64  \n",
      " 13  Wheelbase    429 non-null    int64  \n",
      " 14  Length       429 non-null    int64  \n",
      "dtypes: float64(2), int64(6), object(7)\n",
      "memory usage: 50.4+ KB\n"
     ]
    }
   ],
   "source": [
    "cars_df.info()"
   ]
  },
  {
   "cell_type": "markdown",
   "id": "bb54a322-1461-43f1-8460-3042073e066e",
   "metadata": {},
   "source": [
    "There are 429 rows and 15 columns in the dataset.\n",
    "\n",
    "The column Cylinders has 2 null values."
   ]
  },
  {
   "cell_type": "markdown",
   "id": "fa3c5958-8b94-42da-9a29-fe5552f5860e",
   "metadata": {},
   "source": [
    "### To display the first 5 rows of the dataset"
   ]
  },
  {
   "cell_type": "code",
   "execution_count": 5,
   "id": "87d6f287-a2ae-4d5a-aa7d-d591763c6c88",
   "metadata": {},
   "outputs": [
    {
     "data": {
      "text/html": [
       "<div>\n",
       "<style scoped>\n",
       "    .dataframe tbody tr th:only-of-type {\n",
       "        vertical-align: middle;\n",
       "    }\n",
       "\n",
       "    .dataframe tbody tr th {\n",
       "        vertical-align: top;\n",
       "    }\n",
       "\n",
       "    .dataframe thead th {\n",
       "        text-align: right;\n",
       "    }\n",
       "</style>\n",
       "<table border=\"1\" class=\"dataframe\">\n",
       "  <thead>\n",
       "    <tr style=\"text-align: right;\">\n",
       "      <th></th>\n",
       "      <th>Make</th>\n",
       "      <th>Model</th>\n",
       "      <th>Type</th>\n",
       "      <th>Origin</th>\n",
       "      <th>DriveTrain</th>\n",
       "      <th>MSRP</th>\n",
       "      <th>Invoice</th>\n",
       "      <th>EngineSize</th>\n",
       "      <th>Cylinders</th>\n",
       "      <th>Horsepower</th>\n",
       "      <th>MPG_City</th>\n",
       "      <th>MPG_Highway</th>\n",
       "      <th>Weight</th>\n",
       "      <th>Wheelbase</th>\n",
       "      <th>Length</th>\n",
       "    </tr>\n",
       "  </thead>\n",
       "  <tbody>\n",
       "    <tr>\n",
       "      <th>0</th>\n",
       "      <td>Acura</td>\n",
       "      <td>MDX</td>\n",
       "      <td>SUV</td>\n",
       "      <td>Asia</td>\n",
       "      <td>All</td>\n",
       "      <td>$36,945</td>\n",
       "      <td>$33,337</td>\n",
       "      <td>3.5</td>\n",
       "      <td>6.0</td>\n",
       "      <td>265</td>\n",
       "      <td>17</td>\n",
       "      <td>23</td>\n",
       "      <td>4451</td>\n",
       "      <td>106</td>\n",
       "      <td>189</td>\n",
       "    </tr>\n",
       "    <tr>\n",
       "      <th>1</th>\n",
       "      <td>Acura</td>\n",
       "      <td>RSX Type S 2dr</td>\n",
       "      <td>Sedan</td>\n",
       "      <td>Asia</td>\n",
       "      <td>Front</td>\n",
       "      <td>$23,820</td>\n",
       "      <td>$21,761</td>\n",
       "      <td>2.0</td>\n",
       "      <td>4.0</td>\n",
       "      <td>200</td>\n",
       "      <td>24</td>\n",
       "      <td>31</td>\n",
       "      <td>2778</td>\n",
       "      <td>101</td>\n",
       "      <td>172</td>\n",
       "    </tr>\n",
       "    <tr>\n",
       "      <th>2</th>\n",
       "      <td>Acura</td>\n",
       "      <td>TSX 4dr</td>\n",
       "      <td>Sedan</td>\n",
       "      <td>Asia</td>\n",
       "      <td>Front</td>\n",
       "      <td>$26,990</td>\n",
       "      <td>$24,647</td>\n",
       "      <td>2.4</td>\n",
       "      <td>4.0</td>\n",
       "      <td>200</td>\n",
       "      <td>22</td>\n",
       "      <td>29</td>\n",
       "      <td>3230</td>\n",
       "      <td>105</td>\n",
       "      <td>183</td>\n",
       "    </tr>\n",
       "    <tr>\n",
       "      <th>3</th>\n",
       "      <td>Acura</td>\n",
       "      <td>TL 4dr</td>\n",
       "      <td>Sedan</td>\n",
       "      <td>Asia</td>\n",
       "      <td>Front</td>\n",
       "      <td>$33,195</td>\n",
       "      <td>$30,299</td>\n",
       "      <td>3.2</td>\n",
       "      <td>6.0</td>\n",
       "      <td>270</td>\n",
       "      <td>20</td>\n",
       "      <td>28</td>\n",
       "      <td>3575</td>\n",
       "      <td>108</td>\n",
       "      <td>186</td>\n",
       "    </tr>\n",
       "    <tr>\n",
       "      <th>4</th>\n",
       "      <td>Acura</td>\n",
       "      <td>3.5 RL 4dr</td>\n",
       "      <td>Sedan</td>\n",
       "      <td>Asia</td>\n",
       "      <td>Front</td>\n",
       "      <td>$43,755</td>\n",
       "      <td>$39,014</td>\n",
       "      <td>3.5</td>\n",
       "      <td>6.0</td>\n",
       "      <td>225</td>\n",
       "      <td>18</td>\n",
       "      <td>24</td>\n",
       "      <td>3880</td>\n",
       "      <td>115</td>\n",
       "      <td>197</td>\n",
       "    </tr>\n",
       "  </tbody>\n",
       "</table>\n",
       "</div>"
      ],
      "text/plain": [
       "    Make           Model   Type Origin DriveTrain      MSRP   Invoice  \\\n",
       "0  Acura             MDX    SUV   Asia        All  $36,945   $33,337    \n",
       "1  Acura  RSX Type S 2dr  Sedan   Asia      Front  $23,820   $21,761    \n",
       "2  Acura         TSX 4dr  Sedan   Asia      Front  $26,990   $24,647    \n",
       "3  Acura          TL 4dr  Sedan   Asia      Front  $33,195   $30,299    \n",
       "4  Acura      3.5 RL 4dr  Sedan   Asia      Front  $43,755   $39,014    \n",
       "\n",
       "   EngineSize  Cylinders  Horsepower  MPG_City  MPG_Highway  Weight  \\\n",
       "0         3.5        6.0         265        17           23    4451   \n",
       "1         2.0        4.0         200        24           31    2778   \n",
       "2         2.4        4.0         200        22           29    3230   \n",
       "3         3.2        6.0         270        20           28    3575   \n",
       "4         3.5        6.0         225        18           24    3880   \n",
       "\n",
       "   Wheelbase  Length  \n",
       "0        106     189  \n",
       "1        101     172  \n",
       "2        105     183  \n",
       "3        108     186  \n",
       "4        115     197  "
      ]
     },
     "execution_count": 5,
     "metadata": {},
     "output_type": "execute_result"
    }
   ],
   "source": [
    "cars_df.head()"
   ]
  },
  {
   "cell_type": "markdown",
   "id": "d06fe142-c307-4a73-a987-4b7c7b34880c",
   "metadata": {},
   "source": [
    "### To display the last 5 rows of the dataset"
   ]
  },
  {
   "cell_type": "code",
   "execution_count": 6,
   "id": "9e9cb984-5450-4e8e-8db1-450c39ced9dc",
   "metadata": {},
   "outputs": [
    {
     "data": {
      "text/html": [
       "<div>\n",
       "<style scoped>\n",
       "    .dataframe tbody tr th:only-of-type {\n",
       "        vertical-align: middle;\n",
       "    }\n",
       "\n",
       "    .dataframe tbody tr th {\n",
       "        vertical-align: top;\n",
       "    }\n",
       "\n",
       "    .dataframe thead th {\n",
       "        text-align: right;\n",
       "    }\n",
       "</style>\n",
       "<table border=\"1\" class=\"dataframe\">\n",
       "  <thead>\n",
       "    <tr style=\"text-align: right;\">\n",
       "      <th></th>\n",
       "      <th>Make</th>\n",
       "      <th>Model</th>\n",
       "      <th>Type</th>\n",
       "      <th>Origin</th>\n",
       "      <th>DriveTrain</th>\n",
       "      <th>MSRP</th>\n",
       "      <th>Invoice</th>\n",
       "      <th>EngineSize</th>\n",
       "      <th>Cylinders</th>\n",
       "      <th>Horsepower</th>\n",
       "      <th>MPG_City</th>\n",
       "      <th>MPG_Highway</th>\n",
       "      <th>Weight</th>\n",
       "      <th>Wheelbase</th>\n",
       "      <th>Length</th>\n",
       "    </tr>\n",
       "  </thead>\n",
       "  <tbody>\n",
       "    <tr>\n",
       "      <th>424</th>\n",
       "      <td>Volvo</td>\n",
       "      <td>C70 HPT convertible 2dr</td>\n",
       "      <td>Sedan</td>\n",
       "      <td>Europe</td>\n",
       "      <td>Front</td>\n",
       "      <td>$42,565</td>\n",
       "      <td>$40,083</td>\n",
       "      <td>2.3</td>\n",
       "      <td>5.0</td>\n",
       "      <td>242</td>\n",
       "      <td>20</td>\n",
       "      <td>26</td>\n",
       "      <td>3450</td>\n",
       "      <td>105</td>\n",
       "      <td>186</td>\n",
       "    </tr>\n",
       "    <tr>\n",
       "      <th>425</th>\n",
       "      <td>Volvo</td>\n",
       "      <td>S80 T6 4dr</td>\n",
       "      <td>Sedan</td>\n",
       "      <td>Europe</td>\n",
       "      <td>Front</td>\n",
       "      <td>$45,210</td>\n",
       "      <td>$42,573</td>\n",
       "      <td>2.9</td>\n",
       "      <td>6.0</td>\n",
       "      <td>268</td>\n",
       "      <td>19</td>\n",
       "      <td>26</td>\n",
       "      <td>3653</td>\n",
       "      <td>110</td>\n",
       "      <td>190</td>\n",
       "    </tr>\n",
       "    <tr>\n",
       "      <th>426</th>\n",
       "      <td>Volvo</td>\n",
       "      <td>V40</td>\n",
       "      <td>Wagon</td>\n",
       "      <td>Europe</td>\n",
       "      <td>Front</td>\n",
       "      <td>$26,135</td>\n",
       "      <td>$24,641</td>\n",
       "      <td>1.9</td>\n",
       "      <td>4.0</td>\n",
       "      <td>170</td>\n",
       "      <td>22</td>\n",
       "      <td>29</td>\n",
       "      <td>2822</td>\n",
       "      <td>101</td>\n",
       "      <td>180</td>\n",
       "    </tr>\n",
       "    <tr>\n",
       "      <th>427</th>\n",
       "      <td>Volvo</td>\n",
       "      <td>XC70</td>\n",
       "      <td>Wagon</td>\n",
       "      <td>Europe</td>\n",
       "      <td>All</td>\n",
       "      <td>$35,145</td>\n",
       "      <td>$33,112</td>\n",
       "      <td>2.5</td>\n",
       "      <td>5.0</td>\n",
       "      <td>208</td>\n",
       "      <td>20</td>\n",
       "      <td>27</td>\n",
       "      <td>3823</td>\n",
       "      <td>109</td>\n",
       "      <td>186</td>\n",
       "    </tr>\n",
       "    <tr>\n",
       "      <th>428</th>\n",
       "      <td>Volvo</td>\n",
       "      <td>XC70</td>\n",
       "      <td>Wagon</td>\n",
       "      <td>Europe</td>\n",
       "      <td>All</td>\n",
       "      <td>$35,145</td>\n",
       "      <td>$33,112</td>\n",
       "      <td>2.5</td>\n",
       "      <td>5.0</td>\n",
       "      <td>208</td>\n",
       "      <td>20</td>\n",
       "      <td>27</td>\n",
       "      <td>3823</td>\n",
       "      <td>109</td>\n",
       "      <td>186</td>\n",
       "    </tr>\n",
       "  </tbody>\n",
       "</table>\n",
       "</div>"
      ],
      "text/plain": [
       "      Make                    Model   Type  Origin DriveTrain      MSRP  \\\n",
       "424  Volvo  C70 HPT convertible 2dr  Sedan  Europe      Front  $42,565    \n",
       "425  Volvo               S80 T6 4dr  Sedan  Europe      Front  $45,210    \n",
       "426  Volvo                      V40  Wagon  Europe      Front  $26,135    \n",
       "427  Volvo                     XC70  Wagon  Europe        All  $35,145    \n",
       "428  Volvo                     XC70  Wagon  Europe        All  $35,145    \n",
       "\n",
       "      Invoice  EngineSize  Cylinders  Horsepower  MPG_City  MPG_Highway  \\\n",
       "424  $40,083          2.3        5.0         242        20           26   \n",
       "425  $42,573          2.9        6.0         268        19           26   \n",
       "426  $24,641          1.9        4.0         170        22           29   \n",
       "427  $33,112          2.5        5.0         208        20           27   \n",
       "428  $33,112          2.5        5.0         208        20           27   \n",
       "\n",
       "     Weight  Wheelbase  Length  \n",
       "424    3450        105     186  \n",
       "425    3653        110     190  \n",
       "426    2822        101     180  \n",
       "427    3823        109     186  \n",
       "428    3823        109     186  "
      ]
     },
     "execution_count": 6,
     "metadata": {},
     "output_type": "execute_result"
    }
   ],
   "source": [
    "cars_df.tail()"
   ]
  },
  {
   "cell_type": "markdown",
   "id": "8acddb11-5ca6-48e1-8c4d-b5d3b4a53fa7",
   "metadata": {},
   "source": [
    "### To get the name of the columns"
   ]
  },
  {
   "cell_type": "code",
   "execution_count": 7,
   "id": "296ee148-a835-4594-a34c-0f751075fb50",
   "metadata": {},
   "outputs": [
    {
     "data": {
      "text/plain": [
       "Index(['Make', 'Model', 'Type', 'Origin', 'DriveTrain', 'MSRP', 'Invoice',\n",
       "       'EngineSize', 'Cylinders', 'Horsepower', 'MPG_City', 'MPG_Highway',\n",
       "       'Weight', 'Wheelbase', 'Length'],\n",
       "      dtype='object')"
      ]
     },
     "execution_count": 7,
     "metadata": {},
     "output_type": "execute_result"
    }
   ],
   "source": [
    "cars_df.columns"
   ]
  },
  {
   "cell_type": "markdown",
   "id": "ee9515e2-3bf2-4f11-b006-dfd99106c1d8",
   "metadata": {},
   "source": [
    "### Rename the columns"
   ]
  },
  {
   "cell_type": "code",
   "execution_count": 8,
   "id": "48a9e6fc-ffed-4f7a-ba77-3e59c75ceb30",
   "metadata": {},
   "outputs": [],
   "source": [
    "cars_df.rename(columns={'MSRP': 'MRP', 'MPG_City': 'Mileage_City', 'MPG_Highway':'Mileage_Highway'}, inplace=True)"
   ]
  },
  {
   "cell_type": "code",
   "execution_count": 9,
   "id": "f5c37eee-fbdd-41a7-aba3-9527b4827078",
   "metadata": {},
   "outputs": [
    {
     "data": {
      "text/plain": [
       "Index(['Make', 'Model', 'Type', 'Origin', 'DriveTrain', 'MRP', 'Invoice',\n",
       "       'EngineSize', 'Cylinders', 'Horsepower', 'Mileage_City',\n",
       "       'Mileage_Highway', 'Weight', 'Wheelbase', 'Length'],\n",
       "      dtype='object')"
      ]
     },
     "execution_count": 9,
     "metadata": {},
     "output_type": "execute_result"
    }
   ],
   "source": [
    "cars_df.columns"
   ]
  },
  {
   "cell_type": "markdown",
   "id": "a4275a15-7f67-4f17-b518-2ec9971a5bc6",
   "metadata": {},
   "source": [
    "## Variables"
   ]
  },
  {
   "attachments": {},
   "cell_type": "markdown",
   "id": "40bd68ab-f102-4856-bd36-17e0167b5322",
   "metadata": {},
   "source": [
    "To understand descriptive statistics, first we need to understand the types of each column or variable.\n",
    "\n",
    "Variables are of 2 types:\n",
    "\n",
    "1. Numeric\n",
    "   * Discrete\n",
    "   * Continuous\n",
    "3. Categoric\n",
    "   * Binomial\n",
    "   * Nominal\n",
    "   * Ordinal\n",
    "\n",
    "**Numerical Variable**\n",
    "\n",
    "A numerical variable takes a numeric value.\n",
    "\n",
    "Numerical variable is also known as quantitative variable.\n",
    "\n",
    "A discrete numerical variable takes discrete or finite values only.\n",
    "\n",
    "Ex: Number of students present in the class.\n",
    "\n",
    "A continuous numerical variable can take infinite number of values within a range.\n",
    "\n",
    "Ex. The amount of rainfall in a place.\n",
    "\n",
    "**Categorical Variable**\n",
    "\n",
    "A categorical variable can have 2 or more levels.\n",
    "\n",
    "Categorical variables are also known as qualitative variables.\n",
    "\n",
    "Ex. \n",
    "\n",
    "Colour: Violet, Indigo, Blue, Green\n",
    "\n",
    "Gender: Male, Female\n",
    "\n",
    "Semester: 1, 2, 3, 4, 5, 6, 7, 8\n",
    "\n",
    "A nominal variable has two or more categories but no order. The nominal variable represents discrete units and is used to label variables.\n",
    "Ex: Karnataka, Kerala, Tamilnadu\n",
    "\n",
    "A binomial varaible has strictly two categories but no order.\n",
    "Ex: Positive or Negative of a blood test report.\n",
    "\n",
    "An Ordinal variable is a ordered nominal data.\n",
    "Ex: Education - Primary, Higher-primary, High School, Pre-university, University\n",
    "\n",
    "**Note:** \n",
    "A variable may appear to be numeric but actually categorical.\n",
    "\n",
    "Ex:\n",
    "| Name | Gender |\n",
    "|------ | ------|\n",
    "|Deepak | 1|\n",
    "|Chaitra | 0 |\n",
    "|Saathvik | 1 |\n",
    "|Samhithaa | 0\n",
    "\n",
    "The numeric values used to represent a categorical variable cannot be used for numerical computation.\r\n"
   ]
  },
  {
   "cell_type": "markdown",
   "id": "489aae6c-f9fe-4415-aeb1-bac0f0e517a2",
   "metadata": {},
   "source": [
    "## Descriptive Statistics"
   ]
  },
  {
   "cell_type": "markdown",
   "id": "7a4764a5-4230-41d2-91fd-f66f8f45ac7e",
   "metadata": {},
   "source": [
    "#### Measure of Central Tendency, Dispersion and Partition Values"
   ]
  },
  {
   "cell_type": "code",
   "execution_count": 10,
   "id": "94fc0619-a0e9-447d-9edc-2d7fe80a6589",
   "metadata": {},
   "outputs": [
    {
     "data": {
      "text/html": [
       "<div>\n",
       "<style scoped>\n",
       "    .dataframe tbody tr th:only-of-type {\n",
       "        vertical-align: middle;\n",
       "    }\n",
       "\n",
       "    .dataframe tbody tr th {\n",
       "        vertical-align: top;\n",
       "    }\n",
       "\n",
       "    .dataframe thead th {\n",
       "        text-align: right;\n",
       "    }\n",
       "</style>\n",
       "<table border=\"1\" class=\"dataframe\">\n",
       "  <thead>\n",
       "    <tr style=\"text-align: right;\">\n",
       "      <th></th>\n",
       "      <th>EngineSize</th>\n",
       "      <th>Cylinders</th>\n",
       "      <th>Horsepower</th>\n",
       "      <th>Mileage_City</th>\n",
       "      <th>Mileage_Highway</th>\n",
       "      <th>Weight</th>\n",
       "      <th>Wheelbase</th>\n",
       "      <th>Length</th>\n",
       "    </tr>\n",
       "  </thead>\n",
       "  <tbody>\n",
       "    <tr>\n",
       "      <th>count</th>\n",
       "      <td>429.000000</td>\n",
       "      <td>427.000000</td>\n",
       "      <td>429.000000</td>\n",
       "      <td>429.000000</td>\n",
       "      <td>429.000000</td>\n",
       "      <td>429.000000</td>\n",
       "      <td>429.000000</td>\n",
       "      <td>429.000000</td>\n",
       "    </tr>\n",
       "    <tr>\n",
       "      <th>mean</th>\n",
       "      <td>3.195105</td>\n",
       "      <td>5.805621</td>\n",
       "      <td>215.867133</td>\n",
       "      <td>20.060606</td>\n",
       "      <td>26.843823</td>\n",
       "      <td>3578.524476</td>\n",
       "      <td>108.156177</td>\n",
       "      <td>186.361305</td>\n",
       "    </tr>\n",
       "    <tr>\n",
       "      <th>std</th>\n",
       "      <td>1.107810</td>\n",
       "      <td>1.557103</td>\n",
       "      <td>71.753072</td>\n",
       "      <td>5.232095</td>\n",
       "      <td>5.734495</td>\n",
       "      <td>758.188346</td>\n",
       "      <td>8.302198</td>\n",
       "      <td>14.341219</td>\n",
       "    </tr>\n",
       "    <tr>\n",
       "      <th>min</th>\n",
       "      <td>1.300000</td>\n",
       "      <td>3.000000</td>\n",
       "      <td>73.000000</td>\n",
       "      <td>10.000000</td>\n",
       "      <td>12.000000</td>\n",
       "      <td>1850.000000</td>\n",
       "      <td>89.000000</td>\n",
       "      <td>143.000000</td>\n",
       "    </tr>\n",
       "    <tr>\n",
       "      <th>25%</th>\n",
       "      <td>2.400000</td>\n",
       "      <td>4.000000</td>\n",
       "      <td>165.000000</td>\n",
       "      <td>17.000000</td>\n",
       "      <td>24.000000</td>\n",
       "      <td>3105.000000</td>\n",
       "      <td>103.000000</td>\n",
       "      <td>178.000000</td>\n",
       "    </tr>\n",
       "    <tr>\n",
       "      <th>50%</th>\n",
       "      <td>3.000000</td>\n",
       "      <td>6.000000</td>\n",
       "      <td>210.000000</td>\n",
       "      <td>19.000000</td>\n",
       "      <td>26.000000</td>\n",
       "      <td>3476.000000</td>\n",
       "      <td>107.000000</td>\n",
       "      <td>187.000000</td>\n",
       "    </tr>\n",
       "    <tr>\n",
       "      <th>75%</th>\n",
       "      <td>3.900000</td>\n",
       "      <td>6.000000</td>\n",
       "      <td>255.000000</td>\n",
       "      <td>21.000000</td>\n",
       "      <td>29.000000</td>\n",
       "      <td>3977.000000</td>\n",
       "      <td>112.000000</td>\n",
       "      <td>194.000000</td>\n",
       "    </tr>\n",
       "    <tr>\n",
       "      <th>max</th>\n",
       "      <td>8.300000</td>\n",
       "      <td>12.000000</td>\n",
       "      <td>500.000000</td>\n",
       "      <td>60.000000</td>\n",
       "      <td>66.000000</td>\n",
       "      <td>7190.000000</td>\n",
       "      <td>144.000000</td>\n",
       "      <td>238.000000</td>\n",
       "    </tr>\n",
       "  </tbody>\n",
       "</table>\n",
       "</div>"
      ],
      "text/plain": [
       "       EngineSize   Cylinders  Horsepower  Mileage_City  Mileage_Highway  \\\n",
       "count  429.000000  427.000000  429.000000    429.000000       429.000000   \n",
       "mean     3.195105    5.805621  215.867133     20.060606        26.843823   \n",
       "std      1.107810    1.557103   71.753072      5.232095         5.734495   \n",
       "min      1.300000    3.000000   73.000000     10.000000        12.000000   \n",
       "25%      2.400000    4.000000  165.000000     17.000000        24.000000   \n",
       "50%      3.000000    6.000000  210.000000     19.000000        26.000000   \n",
       "75%      3.900000    6.000000  255.000000     21.000000        29.000000   \n",
       "max      8.300000   12.000000  500.000000     60.000000        66.000000   \n",
       "\n",
       "            Weight   Wheelbase      Length  \n",
       "count   429.000000  429.000000  429.000000  \n",
       "mean   3578.524476  108.156177  186.361305  \n",
       "std     758.188346    8.302198   14.341219  \n",
       "min    1850.000000   89.000000  143.000000  \n",
       "25%    3105.000000  103.000000  178.000000  \n",
       "50%    3476.000000  107.000000  187.000000  \n",
       "75%    3977.000000  112.000000  194.000000  \n",
       "max    7190.000000  144.000000  238.000000  "
      ]
     },
     "execution_count": 10,
     "metadata": {},
     "output_type": "execute_result"
    }
   ],
   "source": [
    "cars_df.describe()"
   ]
  },
  {
   "cell_type": "markdown",
   "id": "e9a1bb2e-5094-4377-9080-d4a10da5a90f",
   "metadata": {},
   "source": [
    "#### To know the relationship between the numerical columns"
   ]
  },
  {
   "cell_type": "code",
   "execution_count": 11,
   "id": "cd879fb9-3cec-4869-a893-e695d8dc256c",
   "metadata": {},
   "outputs": [
    {
     "data": {
      "text/html": [
       "<div>\n",
       "<style scoped>\n",
       "    .dataframe tbody tr th:only-of-type {\n",
       "        vertical-align: middle;\n",
       "    }\n",
       "\n",
       "    .dataframe tbody tr th {\n",
       "        vertical-align: top;\n",
       "    }\n",
       "\n",
       "    .dataframe thead th {\n",
       "        text-align: right;\n",
       "    }\n",
       "</style>\n",
       "<table border=\"1\" class=\"dataframe\">\n",
       "  <thead>\n",
       "    <tr style=\"text-align: right;\">\n",
       "      <th></th>\n",
       "      <th>EngineSize</th>\n",
       "      <th>Cylinders</th>\n",
       "      <th>Horsepower</th>\n",
       "      <th>Mileage_City</th>\n",
       "      <th>Mileage_Highway</th>\n",
       "      <th>Weight</th>\n",
       "      <th>Wheelbase</th>\n",
       "      <th>Length</th>\n",
       "    </tr>\n",
       "  </thead>\n",
       "  <tbody>\n",
       "    <tr>\n",
       "      <th>EngineSize</th>\n",
       "      <td>1.000000</td>\n",
       "      <td>0.908058</td>\n",
       "      <td>0.787222</td>\n",
       "      <td>-0.709127</td>\n",
       "      <td>-0.717010</td>\n",
       "      <td>0.806922</td>\n",
       "      <td>0.636066</td>\n",
       "      <td>0.637191</td>\n",
       "    </tr>\n",
       "    <tr>\n",
       "      <th>Cylinders</th>\n",
       "      <td>0.908058</td>\n",
       "      <td>1.000000</td>\n",
       "      <td>0.810207</td>\n",
       "      <td>-0.684170</td>\n",
       "      <td>-0.675917</td>\n",
       "      <td>0.741498</td>\n",
       "      <td>0.546430</td>\n",
       "      <td>0.547645</td>\n",
       "    </tr>\n",
       "    <tr>\n",
       "      <th>Horsepower</th>\n",
       "      <td>0.787222</td>\n",
       "      <td>0.810207</td>\n",
       "      <td>1.000000</td>\n",
       "      <td>-0.676687</td>\n",
       "      <td>-0.647193</td>\n",
       "      <td>0.630627</td>\n",
       "      <td>0.387362</td>\n",
       "      <td>0.381555</td>\n",
       "    </tr>\n",
       "    <tr>\n",
       "      <th>Mileage_City</th>\n",
       "      <td>-0.709127</td>\n",
       "      <td>-0.684170</td>\n",
       "      <td>-0.676687</td>\n",
       "      <td>1.000000</td>\n",
       "      <td>0.941019</td>\n",
       "      <td>-0.737885</td>\n",
       "      <td>-0.507280</td>\n",
       "      <td>-0.501525</td>\n",
       "    </tr>\n",
       "    <tr>\n",
       "      <th>Mileage_Highway</th>\n",
       "      <td>-0.717010</td>\n",
       "      <td>-0.675917</td>\n",
       "      <td>-0.647193</td>\n",
       "      <td>0.941019</td>\n",
       "      <td>1.000000</td>\n",
       "      <td>-0.790872</td>\n",
       "      <td>-0.524647</td>\n",
       "      <td>-0.466093</td>\n",
       "    </tr>\n",
       "    <tr>\n",
       "      <th>Weight</th>\n",
       "      <td>0.806922</td>\n",
       "      <td>0.741498</td>\n",
       "      <td>0.630627</td>\n",
       "      <td>-0.737885</td>\n",
       "      <td>-0.790872</td>\n",
       "      <td>1.000000</td>\n",
       "      <td>0.760678</td>\n",
       "      <td>0.689917</td>\n",
       "    </tr>\n",
       "    <tr>\n",
       "      <th>Wheelbase</th>\n",
       "      <td>0.636066</td>\n",
       "      <td>0.546430</td>\n",
       "      <td>0.387362</td>\n",
       "      <td>-0.507280</td>\n",
       "      <td>-0.524647</td>\n",
       "      <td>0.760678</td>\n",
       "      <td>1.000000</td>\n",
       "      <td>0.889177</td>\n",
       "    </tr>\n",
       "    <tr>\n",
       "      <th>Length</th>\n",
       "      <td>0.637191</td>\n",
       "      <td>0.547645</td>\n",
       "      <td>0.381555</td>\n",
       "      <td>-0.501525</td>\n",
       "      <td>-0.466093</td>\n",
       "      <td>0.689917</td>\n",
       "      <td>0.889177</td>\n",
       "      <td>1.000000</td>\n",
       "    </tr>\n",
       "  </tbody>\n",
       "</table>\n",
       "</div>"
      ],
      "text/plain": [
       "                 EngineSize  Cylinders  Horsepower  Mileage_City  \\\n",
       "EngineSize         1.000000   0.908058    0.787222     -0.709127   \n",
       "Cylinders          0.908058   1.000000    0.810207     -0.684170   \n",
       "Horsepower         0.787222   0.810207    1.000000     -0.676687   \n",
       "Mileage_City      -0.709127  -0.684170   -0.676687      1.000000   \n",
       "Mileage_Highway   -0.717010  -0.675917   -0.647193      0.941019   \n",
       "Weight             0.806922   0.741498    0.630627     -0.737885   \n",
       "Wheelbase          0.636066   0.546430    0.387362     -0.507280   \n",
       "Length             0.637191   0.547645    0.381555     -0.501525   \n",
       "\n",
       "                 Mileage_Highway    Weight  Wheelbase    Length  \n",
       "EngineSize             -0.717010  0.806922   0.636066  0.637191  \n",
       "Cylinders              -0.675917  0.741498   0.546430  0.547645  \n",
       "Horsepower             -0.647193  0.630627   0.387362  0.381555  \n",
       "Mileage_City            0.941019 -0.737885  -0.507280 -0.501525  \n",
       "Mileage_Highway         1.000000 -0.790872  -0.524647 -0.466093  \n",
       "Weight                 -0.790872  1.000000   0.760678  0.689917  \n",
       "Wheelbase              -0.524647  0.760678   1.000000  0.889177  \n",
       "Length                 -0.466093  0.689917   0.889177  1.000000  "
      ]
     },
     "execution_count": 11,
     "metadata": {},
     "output_type": "execute_result"
    }
   ],
   "source": [
    "cars_df.select_dtypes(exclude=object).corr()"
   ]
  },
  {
   "cell_type": "markdown",
   "id": "0158e53c-bf38-4e4b-a983-82b5f8617df4",
   "metadata": {},
   "source": [
    "### Data Visualization"
   ]
  },
  {
   "cell_type": "markdown",
   "id": "e35161ea-e813-4624-b97e-ea10e10cd258",
   "metadata": {},
   "source": [
    "#### Visualizing the Categorical Data"
   ]
  },
  {
   "cell_type": "code",
   "execution_count": 12,
   "id": "5ef7b050-ffad-4368-994d-d2f110ae72a9",
   "metadata": {},
   "outputs": [
    {
     "data": {
      "image/png": "[encoded data removed]",
      "text/plain": [
       "<Figure size 1900x700 with 1 Axes>"
      ]
     },
     "metadata": {},
     "output_type": "display_data"
    }
   ],
   "source": [
    "plt.figure(figsize=(19, 7))\n",
    "\n",
    "df =  cars_df.groupby('Type')['Type'].count()\n",
    "\n",
    "df = df.sort_values(ascending=False)\n",
    "\n",
    "plt.title(\"Number of Cars by Car Type\")\n",
    "\n",
    "plt.bar(x=df.index, height=df.values)\n",
    "\n",
    "plt.xlabel(\"Car Type\")\n",
    "\n",
    "plt.ylabel(\"No. of Cars\")\n",
    "\n",
    "plt.show()"
   ]
  },
  {
   "cell_type": "code",
   "execution_count": 13,
   "id": "34c9c5c7-3f3d-411e-9458-8119ade88b01",
   "metadata": {},
   "outputs": [
    {
     "data": {
      "image/png": "[encoded data removed]",
      "text/plain": [
       "<Figure size 1900x700 with 1 Axes>"
      ]
     },
     "metadata": {},
     "output_type": "display_data"
    }
   ],
   "source": [
    "plt.figure(figsize=(19, 7))\n",
    "\n",
    "plt.title(\"Number of Cars by Origin\")\n",
    "\n",
    "sns.countplot(data=cars_df, x=\"Origin\")\n",
    "\n",
    "plt.show()"
   ]
  },
  {
   "cell_type": "code",
   "execution_count": 14,
   "id": "19c168ba-9ada-44f3-ac95-c26a4eeff0b0",
   "metadata": {},
   "outputs": [
    {
     "data": {
      "image/png": "[encoded data removed]",
      "text/plain": [
       "<Figure size 1900x700 with 1 Axes>"
      ]
     },
     "metadata": {},
     "output_type": "display_data"
    }
   ],
   "source": [
    "plt.figure(figsize=(19, 7))\n",
    "\n",
    "plt.title(\"Number of Cars by Drive Train\")\n",
    "\n",
    "sns.countplot(data=cars_df, x=\"DriveTrain\")\n",
    "\n",
    "plt.show()"
   ]
  },
  {
   "cell_type": "markdown",
   "id": "7ff3e24a-ad36-4da5-806c-f351b5588598",
   "metadata": {},
   "source": [
    "#### Visualizing the Numerical Data"
   ]
  },
  {
   "cell_type": "code",
   "execution_count": 15,
   "id": "b8776ab7-5cc4-46f0-9038-9bfc717ecec8",
   "metadata": {},
   "outputs": [
    {
     "data": {
      "image/png": "[encoded data removed]",
      "text/plain": [
       "<Figure size 1900x700 with 1 Axes>"
      ]
     },
     "metadata": {},
     "output_type": "display_data"
    }
   ],
   "source": [
    "plt.figure(figsize=(19, 7))\n",
    "\n",
    "plt.title(\"Frequency Distribution of Cars by Mileage in City\")\n",
    "\n",
    "plt.hist(x=cars_df['Mileage_City'])\n",
    "\n",
    "plt.xlabel(\"Mileage in City\")\n",
    "\n",
    "plt.ylabel(\"Count of Cars\")\n",
    "\n",
    "plt.show()"
   ]
  },
  {
   "cell_type": "code",
   "execution_count": 16,
   "id": "6516d787-250f-47ac-b689-17da9bdc2b6c",
   "metadata": {},
   "outputs": [
    {
     "data": {
      "image/png": "[encoded data removed]",
      "text/plain": [
       "<Figure size 1900x700 with 2 Axes>"
      ]
     },
     "metadata": {},
     "output_type": "display_data"
    }
   ],
   "source": [
    "plt.figure(figsize=(19, 7))\n",
    "\n",
    "plt.title(\"Correlation Matrix\")\n",
    "\n",
    "sns.heatmap(cars_df.select_dtypes(exclude=object).corr(), annot=True)\n",
    "\n",
    "plt.show()"
   ]
  },
  {
   "cell_type": "markdown",
   "id": "ca8dcbf0-768d-4092-bfb3-cba852b578f6",
   "metadata": {},
   "source": [
    "## Modify or remove unwanted Data"
   ]
  },
  {
   "cell_type": "markdown",
   "id": "72f42c67-036e-4508-8564-251fad72040f",
   "metadata": {},
   "source": [
    "### To drop a single column"
   ]
  },
  {
   "cell_type": "code",
   "execution_count": 17,
   "id": "14b23f42-6b07-4dce-9249-1e22ddf00e13",
   "metadata": {},
   "outputs": [
    {
     "data": {
      "text/plain": [
       "Index(['Make', 'Model', 'Type', 'Origin', 'DriveTrain', 'MRP', 'Invoice',\n",
       "       'EngineSize', 'Cylinders', 'Horsepower', 'Mileage_City',\n",
       "       'Mileage_Highway', 'Weight', 'Wheelbase', 'Length'],\n",
       "      dtype='object')"
      ]
     },
     "execution_count": 17,
     "metadata": {},
     "output_type": "execute_result"
    }
   ],
   "source": [
    "cars_df.columns"
   ]
  },
  {
   "cell_type": "code",
   "execution_count": 18,
   "id": "e32220e1-a9b9-43c0-9c1c-c84d97b29066",
   "metadata": {},
   "outputs": [],
   "source": [
    "cars_df.drop('Model', axis=1, inplace=True)"
   ]
  },
  {
   "cell_type": "code",
   "execution_count": 19,
   "id": "32330033-aafe-4fb7-ada2-f720774aa19d",
   "metadata": {},
   "outputs": [
    {
     "data": {
      "text/plain": [
       "Index(['Make', 'Type', 'Origin', 'DriveTrain', 'MRP', 'Invoice', 'EngineSize',\n",
       "       'Cylinders', 'Horsepower', 'Mileage_City', 'Mileage_Highway', 'Weight',\n",
       "       'Wheelbase', 'Length'],\n",
       "      dtype='object')"
      ]
     },
     "execution_count": 19,
     "metadata": {},
     "output_type": "execute_result"
    }
   ],
   "source": [
    "cars_df.columns"
   ]
  },
  {
   "cell_type": "markdown",
   "id": "d3ffb591-d9b1-4b05-a74f-61cff3282bbd",
   "metadata": {},
   "source": [
    "### To drop multiple columns"
   ]
  },
  {
   "cell_type": "code",
   "execution_count": 20,
   "id": "a07f9b62-495c-4955-83c3-7a408959a616",
   "metadata": {},
   "outputs": [],
   "source": [
    "cars_df.drop(['MRP', 'Invoice'], axis=1, inplace=True)"
   ]
  },
  {
   "cell_type": "code",
   "execution_count": 21,
   "id": "29736356-972a-4ef2-b241-0b49c830e0e7",
   "metadata": {},
   "outputs": [
    {
     "data": {
      "text/plain": [
       "Index(['Make', 'Type', 'Origin', 'DriveTrain', 'EngineSize', 'Cylinders',\n",
       "       'Horsepower', 'Mileage_City', 'Mileage_Highway', 'Weight', 'Wheelbase',\n",
       "       'Length'],\n",
       "      dtype='object')"
      ]
     },
     "execution_count": 21,
     "metadata": {},
     "output_type": "execute_result"
    }
   ],
   "source": [
    "cars_df.columns"
   ]
  },
  {
   "cell_type": "markdown",
   "id": "a1b81bd3-9bde-4b84-985d-7580eaf95603",
   "metadata": {},
   "source": [
    "### Check for duplicate rows"
   ]
  },
  {
   "cell_type": "code",
   "execution_count": 22,
   "id": "a8390e7b-ad5f-4117-b7e6-2849cd68454d",
   "metadata": {},
   "outputs": [
    {
     "data": {
      "text/plain": [
       "0      False\n",
       "1      False\n",
       "2      False\n",
       "3      False\n",
       "4      False\n",
       "       ...  \n",
       "424    False\n",
       "425    False\n",
       "426    False\n",
       "427    False\n",
       "428     True\n",
       "Length: 429, dtype: bool"
      ]
     },
     "execution_count": 22,
     "metadata": {},
     "output_type": "execute_result"
    }
   ],
   "source": [
    "cars_df.duplicated()"
   ]
  },
  {
   "cell_type": "code",
   "execution_count": 23,
   "id": "53cf7b0e-f1e5-4538-8f13-b6ea5d63dd57",
   "metadata": {},
   "outputs": [
    {
     "data": {
      "text/plain": [
       "22"
      ]
     },
     "execution_count": 23,
     "metadata": {},
     "output_type": "execute_result"
    }
   ],
   "source": [
    "cars_df.duplicated().sum()"
   ]
  },
  {
   "cell_type": "markdown",
   "id": "648057ac-7210-404b-8614-d37141efd271",
   "metadata": {},
   "source": [
    "### Drop the duplicate rows"
   ]
  },
  {
   "cell_type": "code",
   "execution_count": 24,
   "id": "a13cd1f7-2603-4594-a49e-8bbce83f5492",
   "metadata": {},
   "outputs": [],
   "source": [
    "cars_df.drop_duplicates(inplace=True)"
   ]
  },
  {
   "cell_type": "code",
   "execution_count": 25,
   "id": "496d97c5-d553-4bca-90ee-ece7dc9054f1",
   "metadata": {},
   "outputs": [
    {
     "data": {
      "text/plain": [
       "0"
      ]
     },
     "execution_count": 25,
     "metadata": {},
     "output_type": "execute_result"
    }
   ],
   "source": [
    "cars_df.duplicated().sum()"
   ]
  },
  {
   "cell_type": "markdown",
   "id": "4c3ff5f2-63cb-4ce4-8bc1-366e5f4a2366",
   "metadata": {},
   "source": [
    "### Knowing the count of rows with null values"
   ]
  },
  {
   "cell_type": "code",
   "execution_count": 26,
   "id": "a8e8c1cd-f22c-475f-b7cb-f22f3b483014",
   "metadata": {},
   "outputs": [
    {
     "data": {
      "text/plain": [
       "Make               0\n",
       "Type               0\n",
       "Origin             0\n",
       "DriveTrain         0\n",
       "EngineSize         0\n",
       "Cylinders          2\n",
       "Horsepower         0\n",
       "Mileage_City       0\n",
       "Mileage_Highway    0\n",
       "Weight             0\n",
       "Wheelbase          0\n",
       "Length             0\n",
       "dtype: int64"
      ]
     },
     "execution_count": 26,
     "metadata": {},
     "output_type": "execute_result"
    }
   ],
   "source": [
    "cars_df.isnull().sum()"
   ]
  },
  {
   "cell_type": "code",
   "execution_count": 27,
   "id": "7766cb12-62aa-49fe-8ad8-77b1eb9dacad",
   "metadata": {},
   "outputs": [
    {
     "data": {
      "text/plain": [
       "Make               0\n",
       "Type               0\n",
       "Origin             0\n",
       "DriveTrain         0\n",
       "EngineSize         0\n",
       "Cylinders          2\n",
       "Horsepower         0\n",
       "Mileage_City       0\n",
       "Mileage_Highway    0\n",
       "Weight             0\n",
       "Wheelbase          0\n",
       "Length             0\n",
       "dtype: int64"
      ]
     },
     "execution_count": 27,
     "metadata": {},
     "output_type": "execute_result"
    }
   ],
   "source": [
    "cars_df.isna().sum()"
   ]
  },
  {
   "cell_type": "markdown",
   "id": "dc05cf08-8db4-4ef2-b165-14a2f5030e40",
   "metadata": {},
   "source": [
    "### Droping the rows with null values"
   ]
  },
  {
   "cell_type": "code",
   "execution_count": 28,
   "id": "90b4cc39-6323-40a3-bc7c-f99f38a62b9c",
   "metadata": {},
   "outputs": [],
   "source": [
    "#cars_df.dropna(inplace=True)"
   ]
  },
  {
   "cell_type": "code",
   "execution_count": 29,
   "id": "66289f6b-460d-48d8-8b3b-41632d060797",
   "metadata": {},
   "outputs": [
    {
     "data": {
      "text/plain": [
       "(407, 12)"
      ]
     },
     "execution_count": 29,
     "metadata": {},
     "output_type": "execute_result"
    }
   ],
   "source": [
    "cars_df.shape"
   ]
  },
  {
   "cell_type": "markdown",
   "id": "99f94109-54c5-4fea-80cb-0d3d4996dd9d",
   "metadata": {},
   "source": [
    "### Outliers"
   ]
  },
  {
   "cell_type": "markdown",
   "id": "b97758dd-4619-43dc-910a-656aaedd0096",
   "metadata": {},
   "source": [
    "During the data collection, there are chances of abnormal values creeping into the data. This abnormal value is called an outlier.\n",
    "\n",
    "The outliers modify the final results or conclusions drawn from the data.\n",
    "\n",
    "Outliers are observations that are distant or abnormal from other observations.\n",
    "\n",
    "Outliers can be very low or very high values.\n",
    "\n",
    "**Causes of Outliers:**\n",
    "\n",
    "* Incorrect data entry\n",
    "* Mis-reporting\n",
    "* Sampling error\n",
    "* Exceptional but true value\n",
    "  "
   ]
  },
  {
   "cell_type": "code",
   "execution_count": 30,
   "id": "11350942-5c26-449f-9677-aee43357efad",
   "metadata": {},
   "outputs": [
    {
     "data": {
      "image/png": "[encoded data removed]",
      "text/plain": [
       "<Figure size 1900x700 with 1 Axes>"
      ]
     },
     "metadata": {},
     "output_type": "display_data"
    }
   ],
   "source": [
    "plt.figure(figsize=(19, 7))\n",
    "\n",
    "sns.boxplot(cars_df)\n",
    "\n",
    "plt.grid()\n",
    "\n",
    "plt.show()"
   ]
  },
  {
   "cell_type": "markdown",
   "id": "70ec34a2-b29e-459b-aceb-5d815f7f0cf4",
   "metadata": {},
   "source": [
    "### Fill the null value with mean/median/mode value"
   ]
  },
  {
   "attachments": {},
   "cell_type": "markdown",
   "id": "cce67b39-c05b-4542-ba81-54a3fd5c863d",
   "metadata": {},
   "source": [
    "For a numerical variable, the missing value is replaced by the mean if there are no outliers present.\n",
    "\n",
    "If outliers are present the missing values are replaced by the median.\n",
    "\n",
    "Mode is applicable to both numerical and categorical data.\n"
   ]
  },
  {
   "cell_type": "code",
   "execution_count": 31,
   "id": "7ca38117-1549-4587-9b91-f57651ded6cf",
   "metadata": {},
   "outputs": [
    {
     "data": {
      "text/plain": [
       "Make               0\n",
       "Type               0\n",
       "Origin             0\n",
       "DriveTrain         0\n",
       "EngineSize         0\n",
       "Cylinders          2\n",
       "Horsepower         0\n",
       "Mileage_City       0\n",
       "Mileage_Highway    0\n",
       "Weight             0\n",
       "Wheelbase          0\n",
       "Length             0\n",
       "dtype: int64"
      ]
     },
     "execution_count": 31,
     "metadata": {},
     "output_type": "execute_result"
    }
   ],
   "source": [
    "cars_df.isna().sum()"
   ]
  },
  {
   "cell_type": "code",
   "execution_count": 32,
   "id": "b9f55e60-da69-4508-8518-e6069eaf98c3",
   "metadata": {},
   "outputs": [
    {
     "data": {
      "text/plain": [
       "5.817283950617284"
      ]
     },
     "execution_count": 32,
     "metadata": {},
     "output_type": "execute_result"
    }
   ],
   "source": [
    "cars_df['Cylinders'].mean()"
   ]
  },
  {
   "cell_type": "code",
   "execution_count": 33,
   "id": "9a0b932c-c2b5-42dd-9880-dd03b316b5cf",
   "metadata": {},
   "outputs": [
    {
     "data": {
      "text/plain": [
       "6.0"
      ]
     },
     "execution_count": 33,
     "metadata": {},
     "output_type": "execute_result"
    }
   ],
   "source": [
    "cars_df['Cylinders'].median()"
   ]
  },
  {
   "cell_type": "code",
   "execution_count": 34,
   "id": "884c8709-dbd7-447f-9b91-3cff2d78fc16",
   "metadata": {},
   "outputs": [
    {
     "data": {
      "text/plain": [
       "0    6.0\n",
       "Name: Cylinders, dtype: float64"
      ]
     },
     "execution_count": 34,
     "metadata": {},
     "output_type": "execute_result"
    }
   ],
   "source": [
    "cars_df['Cylinders'].mode()"
   ]
  },
  {
   "cell_type": "code",
   "execution_count": 35,
   "id": "befa0d61-b736-4346-a390-310124d026c7",
   "metadata": {},
   "outputs": [
    {
     "name": "stderr",
     "output_type": "stream",
     "text": [
      "C:\\Users\\deepa\\AppData\\Local\\Temp\\ipykernel_25724\\3381060714.py:1: FutureWarning: A value is trying to be set on a copy of a DataFrame or Series through chained assignment using an inplace method.\n",
      "The behavior will change in pandas 3.0. This inplace method will never work because the intermediate object on which we are setting values always behaves as a copy.\n",
      "\n",
      "For example, when doing 'df[col].method(value, inplace=True)', try using 'df.method({col: value}, inplace=True)' or df[col] = df[col].method(value) instead, to perform the operation inplace on the original object.\n",
      "\n",
      "\n",
      "  cars_df['Cylinders'].fillna(cars_df['Cylinders'].mean(), inplace=True)\n"
     ]
    }
   ],
   "source": [
    "cars_df['Cylinders'].fillna(cars_df['Cylinders'].mean(), inplace=True)"
   ]
  },
  {
   "cell_type": "code",
   "execution_count": 36,
   "id": "50a2bf34-58c9-49e3-9cfc-ba8ef8e70d54",
   "metadata": {},
   "outputs": [
    {
     "data": {
      "text/plain": [
       "Make               0\n",
       "Type               0\n",
       "Origin             0\n",
       "DriveTrain         0\n",
       "EngineSize         0\n",
       "Cylinders          0\n",
       "Horsepower         0\n",
       "Mileage_City       0\n",
       "Mileage_Highway    0\n",
       "Weight             0\n",
       "Wheelbase          0\n",
       "Length             0\n",
       "dtype: int64"
      ]
     },
     "execution_count": 36,
     "metadata": {},
     "output_type": "execute_result"
    }
   ],
   "source": [
    "cars_df.isna().sum()"
   ]
  },
  {
   "cell_type": "markdown",
   "id": "b0f02ffc-8ade-488f-a765-a25bbb357d53",
   "metadata": {},
   "source": [
    "### Datatype Conversion"
   ]
  },
  {
   "cell_type": "code",
   "execution_count": 37,
   "id": "ef758f1a-8cce-4542-abeb-c9029edebb24",
   "metadata": {},
   "outputs": [
    {
     "data": {
      "text/plain": [
       "Make                object\n",
       "Type                object\n",
       "Origin              object\n",
       "DriveTrain          object\n",
       "EngineSize         float64\n",
       "Cylinders          float64\n",
       "Horsepower           int64\n",
       "Mileage_City         int64\n",
       "Mileage_Highway      int64\n",
       "Weight               int64\n",
       "Wheelbase            int64\n",
       "Length               int64\n",
       "dtype: object"
      ]
     },
     "execution_count": 37,
     "metadata": {},
     "output_type": "execute_result"
    }
   ],
   "source": [
    "cars_df.dtypes"
   ]
  },
  {
   "cell_type": "code",
   "execution_count": 38,
   "id": "14d3e81b-a0ac-47c7-8eb5-d194b3e770cd",
   "metadata": {},
   "outputs": [],
   "source": [
    "cars_df['Cylinders'] = cars_df['Cylinders'].astype(np.int64)"
   ]
  },
  {
   "cell_type": "code",
   "execution_count": 39,
   "id": "22e884e4-330e-4f7c-865f-dccafee347bf",
   "metadata": {},
   "outputs": [
    {
     "data": {
      "text/plain": [
       "Make                object\n",
       "Type                object\n",
       "Origin              object\n",
       "DriveTrain          object\n",
       "EngineSize         float64\n",
       "Cylinders            int64\n",
       "Horsepower           int64\n",
       "Mileage_City         int64\n",
       "Mileage_Highway      int64\n",
       "Weight               int64\n",
       "Wheelbase            int64\n",
       "Length               int64\n",
       "dtype: object"
      ]
     },
     "execution_count": 39,
     "metadata": {},
     "output_type": "execute_result"
    }
   ],
   "source": [
    "cars_df.dtypes"
   ]
  },
  {
   "cell_type": "markdown",
   "id": "e472e6d0-e753-44b5-bf24-a82962bfd8ba",
   "metadata": {},
   "source": [
    "## Retrieving the Data"
   ]
  },
  {
   "cell_type": "code",
   "execution_count": 40,
   "id": "abcf4ed9-f5be-4ab9-a92c-c8848d9ae01c",
   "metadata": {},
   "outputs": [
    {
     "data": {
      "text/html": [
       "<div>\n",
       "<style scoped>\n",
       "    .dataframe tbody tr th:only-of-type {\n",
       "        vertical-align: middle;\n",
       "    }\n",
       "\n",
       "    .dataframe tbody tr th {\n",
       "        vertical-align: top;\n",
       "    }\n",
       "\n",
       "    .dataframe thead th {\n",
       "        text-align: right;\n",
       "    }\n",
       "</style>\n",
       "<table border=\"1\" class=\"dataframe\">\n",
       "  <thead>\n",
       "    <tr style=\"text-align: right;\">\n",
       "      <th></th>\n",
       "      <th>Make</th>\n",
       "      <th>Type</th>\n",
       "      <th>Origin</th>\n",
       "      <th>DriveTrain</th>\n",
       "      <th>EngineSize</th>\n",
       "      <th>Cylinders</th>\n",
       "      <th>Horsepower</th>\n",
       "      <th>Mileage_City</th>\n",
       "      <th>Mileage_Highway</th>\n",
       "      <th>Weight</th>\n",
       "      <th>Wheelbase</th>\n",
       "      <th>Length</th>\n",
       "    </tr>\n",
       "  </thead>\n",
       "  <tbody>\n",
       "    <tr>\n",
       "      <th>0</th>\n",
       "      <td>Acura</td>\n",
       "      <td>SUV</td>\n",
       "      <td>Asia</td>\n",
       "      <td>All</td>\n",
       "      <td>3.5</td>\n",
       "      <td>6</td>\n",
       "      <td>265</td>\n",
       "      <td>17</td>\n",
       "      <td>23</td>\n",
       "      <td>4451</td>\n",
       "      <td>106</td>\n",
       "      <td>189</td>\n",
       "    </tr>\n",
       "    <tr>\n",
       "      <th>1</th>\n",
       "      <td>Acura</td>\n",
       "      <td>Sedan</td>\n",
       "      <td>Asia</td>\n",
       "      <td>Front</td>\n",
       "      <td>2.0</td>\n",
       "      <td>4</td>\n",
       "      <td>200</td>\n",
       "      <td>24</td>\n",
       "      <td>31</td>\n",
       "      <td>2778</td>\n",
       "      <td>101</td>\n",
       "      <td>172</td>\n",
       "    </tr>\n",
       "    <tr>\n",
       "      <th>2</th>\n",
       "      <td>Acura</td>\n",
       "      <td>Sedan</td>\n",
       "      <td>Asia</td>\n",
       "      <td>Front</td>\n",
       "      <td>2.4</td>\n",
       "      <td>4</td>\n",
       "      <td>200</td>\n",
       "      <td>22</td>\n",
       "      <td>29</td>\n",
       "      <td>3230</td>\n",
       "      <td>105</td>\n",
       "      <td>183</td>\n",
       "    </tr>\n",
       "    <tr>\n",
       "      <th>3</th>\n",
       "      <td>Acura</td>\n",
       "      <td>Sedan</td>\n",
       "      <td>Asia</td>\n",
       "      <td>Front</td>\n",
       "      <td>3.2</td>\n",
       "      <td>6</td>\n",
       "      <td>270</td>\n",
       "      <td>20</td>\n",
       "      <td>28</td>\n",
       "      <td>3575</td>\n",
       "      <td>108</td>\n",
       "      <td>186</td>\n",
       "    </tr>\n",
       "    <tr>\n",
       "      <th>4</th>\n",
       "      <td>Acura</td>\n",
       "      <td>Sedan</td>\n",
       "      <td>Asia</td>\n",
       "      <td>Front</td>\n",
       "      <td>3.5</td>\n",
       "      <td>6</td>\n",
       "      <td>225</td>\n",
       "      <td>18</td>\n",
       "      <td>24</td>\n",
       "      <td>3880</td>\n",
       "      <td>115</td>\n",
       "      <td>197</td>\n",
       "    </tr>\n",
       "  </tbody>\n",
       "</table>\n",
       "</div>"
      ],
      "text/plain": [
       "    Make   Type Origin DriveTrain  EngineSize  Cylinders  Horsepower  \\\n",
       "0  Acura    SUV   Asia        All         3.5          6         265   \n",
       "1  Acura  Sedan   Asia      Front         2.0          4         200   \n",
       "2  Acura  Sedan   Asia      Front         2.4          4         200   \n",
       "3  Acura  Sedan   Asia      Front         3.2          6         270   \n",
       "4  Acura  Sedan   Asia      Front         3.5          6         225   \n",
       "\n",
       "   Mileage_City  Mileage_Highway  Weight  Wheelbase  Length  \n",
       "0            17               23    4451        106     189  \n",
       "1            24               31    2778        101     172  \n",
       "2            22               29    3230        105     183  \n",
       "3            20               28    3575        108     186  \n",
       "4            18               24    3880        115     197  "
      ]
     },
     "execution_count": 40,
     "metadata": {},
     "output_type": "execute_result"
    }
   ],
   "source": [
    "cars_df.head()"
   ]
  },
  {
   "cell_type": "code",
   "execution_count": 41,
   "id": "775a00a2-8cf0-4066-af26-e73aa3c2fe9f",
   "metadata": {},
   "outputs": [
    {
     "data": {
      "text/html": [
       "<div>\n",
       "<style scoped>\n",
       "    .dataframe tbody tr th:only-of-type {\n",
       "        vertical-align: middle;\n",
       "    }\n",
       "\n",
       "    .dataframe tbody tr th {\n",
       "        vertical-align: top;\n",
       "    }\n",
       "\n",
       "    .dataframe thead th {\n",
       "        text-align: right;\n",
       "    }\n",
       "</style>\n",
       "<table border=\"1\" class=\"dataframe\">\n",
       "  <thead>\n",
       "    <tr style=\"text-align: right;\">\n",
       "      <th></th>\n",
       "      <th>Make</th>\n",
       "      <th>Type</th>\n",
       "      <th>Origin</th>\n",
       "      <th>DriveTrain</th>\n",
       "      <th>EngineSize</th>\n",
       "      <th>Cylinders</th>\n",
       "      <th>Horsepower</th>\n",
       "      <th>Mileage_City</th>\n",
       "      <th>Mileage_Highway</th>\n",
       "      <th>Weight</th>\n",
       "      <th>Wheelbase</th>\n",
       "      <th>Length</th>\n",
       "    </tr>\n",
       "  </thead>\n",
       "  <tbody>\n",
       "    <tr>\n",
       "      <th>423</th>\n",
       "      <td>Volvo</td>\n",
       "      <td>Sedan</td>\n",
       "      <td>Europe</td>\n",
       "      <td>Front</td>\n",
       "      <td>2.4</td>\n",
       "      <td>5</td>\n",
       "      <td>197</td>\n",
       "      <td>21</td>\n",
       "      <td>28</td>\n",
       "      <td>3450</td>\n",
       "      <td>105</td>\n",
       "      <td>186</td>\n",
       "    </tr>\n",
       "    <tr>\n",
       "      <th>424</th>\n",
       "      <td>Volvo</td>\n",
       "      <td>Sedan</td>\n",
       "      <td>Europe</td>\n",
       "      <td>Front</td>\n",
       "      <td>2.3</td>\n",
       "      <td>5</td>\n",
       "      <td>242</td>\n",
       "      <td>20</td>\n",
       "      <td>26</td>\n",
       "      <td>3450</td>\n",
       "      <td>105</td>\n",
       "      <td>186</td>\n",
       "    </tr>\n",
       "    <tr>\n",
       "      <th>425</th>\n",
       "      <td>Volvo</td>\n",
       "      <td>Sedan</td>\n",
       "      <td>Europe</td>\n",
       "      <td>Front</td>\n",
       "      <td>2.9</td>\n",
       "      <td>6</td>\n",
       "      <td>268</td>\n",
       "      <td>19</td>\n",
       "      <td>26</td>\n",
       "      <td>3653</td>\n",
       "      <td>110</td>\n",
       "      <td>190</td>\n",
       "    </tr>\n",
       "    <tr>\n",
       "      <th>426</th>\n",
       "      <td>Volvo</td>\n",
       "      <td>Wagon</td>\n",
       "      <td>Europe</td>\n",
       "      <td>Front</td>\n",
       "      <td>1.9</td>\n",
       "      <td>4</td>\n",
       "      <td>170</td>\n",
       "      <td>22</td>\n",
       "      <td>29</td>\n",
       "      <td>2822</td>\n",
       "      <td>101</td>\n",
       "      <td>180</td>\n",
       "    </tr>\n",
       "    <tr>\n",
       "      <th>427</th>\n",
       "      <td>Volvo</td>\n",
       "      <td>Wagon</td>\n",
       "      <td>Europe</td>\n",
       "      <td>All</td>\n",
       "      <td>2.5</td>\n",
       "      <td>5</td>\n",
       "      <td>208</td>\n",
       "      <td>20</td>\n",
       "      <td>27</td>\n",
       "      <td>3823</td>\n",
       "      <td>109</td>\n",
       "      <td>186</td>\n",
       "    </tr>\n",
       "  </tbody>\n",
       "</table>\n",
       "</div>"
      ],
      "text/plain": [
       "      Make   Type  Origin DriveTrain  EngineSize  Cylinders  Horsepower  \\\n",
       "423  Volvo  Sedan  Europe      Front         2.4          5         197   \n",
       "424  Volvo  Sedan  Europe      Front         2.3          5         242   \n",
       "425  Volvo  Sedan  Europe      Front         2.9          6         268   \n",
       "426  Volvo  Wagon  Europe      Front         1.9          4         170   \n",
       "427  Volvo  Wagon  Europe        All         2.5          5         208   \n",
       "\n",
       "     Mileage_City  Mileage_Highway  Weight  Wheelbase  Length  \n",
       "423            21               28    3450        105     186  \n",
       "424            20               26    3450        105     186  \n",
       "425            19               26    3653        110     190  \n",
       "426            22               29    2822        101     180  \n",
       "427            20               27    3823        109     186  "
      ]
     },
     "execution_count": 41,
     "metadata": {},
     "output_type": "execute_result"
    }
   ],
   "source": [
    "cars_df.tail()"
   ]
  },
  {
   "cell_type": "markdown",
   "id": "a3413ed3-9a69-45c9-9e9a-938b766523b1",
   "metadata": {},
   "source": [
    "#### Using *loc* method"
   ]
  },
  {
   "cell_type": "markdown",
   "id": "ad65f6c9-b00a-4feb-b226-3edd998c038d",
   "metadata": {},
   "source": [
    "The *loc* method is used for label based indexing."
   ]
  },
  {
   "cell_type": "code",
   "execution_count": 42,
   "id": "f9dcd5e2-dd81-472a-8d6c-206f61d8e526",
   "metadata": {},
   "outputs": [
    {
     "data": {
      "text/plain": [
       "'Acura'"
      ]
     },
     "execution_count": 42,
     "metadata": {},
     "output_type": "execute_result"
    }
   ],
   "source": [
    "cars_df.loc[0, 'Make']"
   ]
  },
  {
   "cell_type": "code",
   "execution_count": 43,
   "id": "7771dd8f-335e-4e5a-ba86-a2822cdd7c53",
   "metadata": {},
   "outputs": [
    {
     "data": {
      "text/html": [
       "<div>\n",
       "<style scoped>\n",
       "    .dataframe tbody tr th:only-of-type {\n",
       "        vertical-align: middle;\n",
       "    }\n",
       "\n",
       "    .dataframe tbody tr th {\n",
       "        vertical-align: top;\n",
       "    }\n",
       "\n",
       "    .dataframe thead th {\n",
       "        text-align: right;\n",
       "    }\n",
       "</style>\n",
       "<table border=\"1\" class=\"dataframe\">\n",
       "  <thead>\n",
       "    <tr style=\"text-align: right;\">\n",
       "      <th></th>\n",
       "      <th>Make</th>\n",
       "      <th>Type</th>\n",
       "    </tr>\n",
       "  </thead>\n",
       "  <tbody>\n",
       "    <tr>\n",
       "      <th>0</th>\n",
       "      <td>Acura</td>\n",
       "      <td>SUV</td>\n",
       "    </tr>\n",
       "    <tr>\n",
       "      <th>1</th>\n",
       "      <td>Acura</td>\n",
       "      <td>Sedan</td>\n",
       "    </tr>\n",
       "    <tr>\n",
       "      <th>2</th>\n",
       "      <td>Acura</td>\n",
       "      <td>Sedan</td>\n",
       "    </tr>\n",
       "  </tbody>\n",
       "</table>\n",
       "</div>"
      ],
      "text/plain": [
       "    Make   Type\n",
       "0  Acura    SUV\n",
       "1  Acura  Sedan\n",
       "2  Acura  Sedan"
      ]
     },
     "execution_count": 43,
     "metadata": {},
     "output_type": "execute_result"
    }
   ],
   "source": [
    "cars_df.loc[0:2, 'Make': 'Type']"
   ]
  },
  {
   "cell_type": "code",
   "execution_count": 44,
   "id": "6b9f654b-ee72-4eca-96d0-475fbfbc3b28",
   "metadata": {},
   "outputs": [
    {
     "data": {
      "text/html": [
       "<div>\n",
       "<style scoped>\n",
       "    .dataframe tbody tr th:only-of-type {\n",
       "        vertical-align: middle;\n",
       "    }\n",
       "\n",
       "    .dataframe tbody tr th {\n",
       "        vertical-align: top;\n",
       "    }\n",
       "\n",
       "    .dataframe thead th {\n",
       "        text-align: right;\n",
       "    }\n",
       "</style>\n",
       "<table border=\"1\" class=\"dataframe\">\n",
       "  <thead>\n",
       "    <tr style=\"text-align: right;\">\n",
       "      <th></th>\n",
       "      <th>Make</th>\n",
       "      <th>Mileage_City</th>\n",
       "    </tr>\n",
       "  </thead>\n",
       "  <tbody>\n",
       "    <tr>\n",
       "      <th>2</th>\n",
       "      <td>Acura</td>\n",
       "      <td>22</td>\n",
       "    </tr>\n",
       "    <tr>\n",
       "      <th>5</th>\n",
       "      <td>Acura</td>\n",
       "      <td>18</td>\n",
       "    </tr>\n",
       "    <tr>\n",
       "      <th>423</th>\n",
       "      <td>Volvo</td>\n",
       "      <td>21</td>\n",
       "    </tr>\n",
       "  </tbody>\n",
       "</table>\n",
       "</div>"
      ],
      "text/plain": [
       "      Make  Mileage_City\n",
       "2    Acura            22\n",
       "5    Acura            18\n",
       "423  Volvo            21"
      ]
     },
     "execution_count": 44,
     "metadata": {},
     "output_type": "execute_result"
    }
   ],
   "source": [
    "cars_df.loc[[2, 5, 423], ['Make', 'Mileage_City']]"
   ]
  },
  {
   "cell_type": "markdown",
   "id": "6e5adbd0-f3b1-42da-810a-fe86ca007aa1",
   "metadata": {},
   "source": [
    "#### Using *iloc* method"
   ]
  },
  {
   "cell_type": "code",
   "execution_count": 45,
   "id": "140b23c8-4e4d-402d-b6f7-107877ee50e1",
   "metadata": {},
   "outputs": [
    {
     "data": {
      "text/plain": [
       "'Acura'"
      ]
     },
     "execution_count": 45,
     "metadata": {},
     "output_type": "execute_result"
    }
   ],
   "source": [
    "cars_df.iloc[0, 0]"
   ]
  },
  {
   "cell_type": "code",
   "execution_count": 46,
   "id": "aeb0ae43-c25c-44fb-beef-f66362dc50b5",
   "metadata": {},
   "outputs": [
    {
     "data": {
      "text/html": [
       "<div>\n",
       "<style scoped>\n",
       "    .dataframe tbody tr th:only-of-type {\n",
       "        vertical-align: middle;\n",
       "    }\n",
       "\n",
       "    .dataframe tbody tr th {\n",
       "        vertical-align: top;\n",
       "    }\n",
       "\n",
       "    .dataframe thead th {\n",
       "        text-align: right;\n",
       "    }\n",
       "</style>\n",
       "<table border=\"1\" class=\"dataframe\">\n",
       "  <thead>\n",
       "    <tr style=\"text-align: right;\">\n",
       "      <th></th>\n",
       "      <th>Make</th>\n",
       "      <th>Type</th>\n",
       "      <th>Origin</th>\n",
       "    </tr>\n",
       "  </thead>\n",
       "  <tbody>\n",
       "    <tr>\n",
       "      <th>0</th>\n",
       "      <td>Acura</td>\n",
       "      <td>SUV</td>\n",
       "      <td>Asia</td>\n",
       "    </tr>\n",
       "    <tr>\n",
       "      <th>1</th>\n",
       "      <td>Acura</td>\n",
       "      <td>Sedan</td>\n",
       "      <td>Asia</td>\n",
       "    </tr>\n",
       "  </tbody>\n",
       "</table>\n",
       "</div>"
      ],
      "text/plain": [
       "    Make   Type Origin\n",
       "0  Acura    SUV   Asia\n",
       "1  Acura  Sedan   Asia"
      ]
     },
     "execution_count": 46,
     "metadata": {},
     "output_type": "execute_result"
    }
   ],
   "source": [
    "cars_df.iloc[0:2, 0:3]"
   ]
  },
  {
   "cell_type": "code",
   "execution_count": 47,
   "id": "81f73cfa-3399-44a9-8e81-389ceebe1d5e",
   "metadata": {},
   "outputs": [
    {
     "data": {
      "text/html": [
       "<div>\n",
       "<style scoped>\n",
       "    .dataframe tbody tr th:only-of-type {\n",
       "        vertical-align: middle;\n",
       "    }\n",
       "\n",
       "    .dataframe tbody tr th {\n",
       "        vertical-align: top;\n",
       "    }\n",
       "\n",
       "    .dataframe thead th {\n",
       "        text-align: right;\n",
       "    }\n",
       "</style>\n",
       "<table border=\"1\" class=\"dataframe\">\n",
       "  <thead>\n",
       "    <tr style=\"text-align: right;\">\n",
       "      <th></th>\n",
       "      <th>Make</th>\n",
       "      <th>Type</th>\n",
       "      <th>Cylinders</th>\n",
       "    </tr>\n",
       "  </thead>\n",
       "  <tbody>\n",
       "    <tr>\n",
       "      <th>2</th>\n",
       "      <td>Acura</td>\n",
       "      <td>Sedan</td>\n",
       "      <td>4</td>\n",
       "    </tr>\n",
       "    <tr>\n",
       "      <th>5</th>\n",
       "      <td>Acura</td>\n",
       "      <td>Sedan</td>\n",
       "      <td>6</td>\n",
       "    </tr>\n",
       "  </tbody>\n",
       "</table>\n",
       "</div>"
      ],
      "text/plain": [
       "    Make   Type  Cylinders\n",
       "2  Acura  Sedan          4\n",
       "5  Acura  Sedan          6"
      ]
     },
     "execution_count": 47,
     "metadata": {},
     "output_type": "execute_result"
    }
   ],
   "source": [
    "cars_df.iloc[[2, 5], [0, 1, 5]]"
   ]
  },
  {
   "cell_type": "code",
   "execution_count": 48,
   "id": "5f1ea771-9805-4e24-bb2a-132da4d1a9a8",
   "metadata": {},
   "outputs": [
    {
     "data": {
      "text/html": [
       "<div>\n",
       "<style scoped>\n",
       "    .dataframe tbody tr th:only-of-type {\n",
       "        vertical-align: middle;\n",
       "    }\n",
       "\n",
       "    .dataframe tbody tr th {\n",
       "        vertical-align: top;\n",
       "    }\n",
       "\n",
       "    .dataframe thead th {\n",
       "        text-align: right;\n",
       "    }\n",
       "</style>\n",
       "<table border=\"1\" class=\"dataframe\">\n",
       "  <thead>\n",
       "    <tr style=\"text-align: right;\">\n",
       "      <th></th>\n",
       "      <th>Make</th>\n",
       "      <th>Type</th>\n",
       "      <th>Origin</th>\n",
       "      <th>DriveTrain</th>\n",
       "      <th>EngineSize</th>\n",
       "      <th>Cylinders</th>\n",
       "      <th>Horsepower</th>\n",
       "      <th>Mileage_City</th>\n",
       "      <th>Mileage_Highway</th>\n",
       "      <th>Weight</th>\n",
       "      <th>Wheelbase</th>\n",
       "      <th>Length</th>\n",
       "    </tr>\n",
       "  </thead>\n",
       "  <tbody>\n",
       "    <tr>\n",
       "      <th>0</th>\n",
       "      <td>Acura</td>\n",
       "      <td>SUV</td>\n",
       "      <td>Asia</td>\n",
       "      <td>All</td>\n",
       "      <td>3.5</td>\n",
       "      <td>6</td>\n",
       "      <td>265</td>\n",
       "      <td>17</td>\n",
       "      <td>23</td>\n",
       "      <td>4451</td>\n",
       "      <td>106</td>\n",
       "      <td>189</td>\n",
       "    </tr>\n",
       "    <tr>\n",
       "      <th>1</th>\n",
       "      <td>Acura</td>\n",
       "      <td>Sedan</td>\n",
       "      <td>Asia</td>\n",
       "      <td>Front</td>\n",
       "      <td>2.0</td>\n",
       "      <td>4</td>\n",
       "      <td>200</td>\n",
       "      <td>24</td>\n",
       "      <td>31</td>\n",
       "      <td>2778</td>\n",
       "      <td>101</td>\n",
       "      <td>172</td>\n",
       "    </tr>\n",
       "    <tr>\n",
       "      <th>2</th>\n",
       "      <td>Acura</td>\n",
       "      <td>Sedan</td>\n",
       "      <td>Asia</td>\n",
       "      <td>Front</td>\n",
       "      <td>2.4</td>\n",
       "      <td>4</td>\n",
       "      <td>200</td>\n",
       "      <td>22</td>\n",
       "      <td>29</td>\n",
       "      <td>3230</td>\n",
       "      <td>105</td>\n",
       "      <td>183</td>\n",
       "    </tr>\n",
       "    <tr>\n",
       "      <th>3</th>\n",
       "      <td>Acura</td>\n",
       "      <td>Sedan</td>\n",
       "      <td>Asia</td>\n",
       "      <td>Front</td>\n",
       "      <td>3.2</td>\n",
       "      <td>6</td>\n",
       "      <td>270</td>\n",
       "      <td>20</td>\n",
       "      <td>28</td>\n",
       "      <td>3575</td>\n",
       "      <td>108</td>\n",
       "      <td>186</td>\n",
       "    </tr>\n",
       "    <tr>\n",
       "      <th>4</th>\n",
       "      <td>Acura</td>\n",
       "      <td>Sedan</td>\n",
       "      <td>Asia</td>\n",
       "      <td>Front</td>\n",
       "      <td>3.5</td>\n",
       "      <td>6</td>\n",
       "      <td>225</td>\n",
       "      <td>18</td>\n",
       "      <td>24</td>\n",
       "      <td>3880</td>\n",
       "      <td>115</td>\n",
       "      <td>197</td>\n",
       "    </tr>\n",
       "    <tr>\n",
       "      <th>...</th>\n",
       "      <td>...</td>\n",
       "      <td>...</td>\n",
       "      <td>...</td>\n",
       "      <td>...</td>\n",
       "      <td>...</td>\n",
       "      <td>...</td>\n",
       "      <td>...</td>\n",
       "      <td>...</td>\n",
       "      <td>...</td>\n",
       "      <td>...</td>\n",
       "      <td>...</td>\n",
       "      <td>...</td>\n",
       "    </tr>\n",
       "    <tr>\n",
       "      <th>396</th>\n",
       "      <td>Toyota</td>\n",
       "      <td>Sports</td>\n",
       "      <td>Asia</td>\n",
       "      <td>Rear</td>\n",
       "      <td>1.8</td>\n",
       "      <td>4</td>\n",
       "      <td>138</td>\n",
       "      <td>26</td>\n",
       "      <td>32</td>\n",
       "      <td>2195</td>\n",
       "      <td>97</td>\n",
       "      <td>153</td>\n",
       "    </tr>\n",
       "    <tr>\n",
       "      <th>397</th>\n",
       "      <td>Toyota</td>\n",
       "      <td>Truck</td>\n",
       "      <td>Asia</td>\n",
       "      <td>Rear</td>\n",
       "      <td>2.4</td>\n",
       "      <td>4</td>\n",
       "      <td>142</td>\n",
       "      <td>22</td>\n",
       "      <td>27</td>\n",
       "      <td>2750</td>\n",
       "      <td>103</td>\n",
       "      <td>191</td>\n",
       "    </tr>\n",
       "    <tr>\n",
       "      <th>398</th>\n",
       "      <td>Toyota</td>\n",
       "      <td>Truck</td>\n",
       "      <td>Asia</td>\n",
       "      <td>Rear</td>\n",
       "      <td>3.4</td>\n",
       "      <td>6</td>\n",
       "      <td>190</td>\n",
       "      <td>16</td>\n",
       "      <td>18</td>\n",
       "      <td>3925</td>\n",
       "      <td>128</td>\n",
       "      <td>218</td>\n",
       "    </tr>\n",
       "    <tr>\n",
       "      <th>399</th>\n",
       "      <td>Toyota</td>\n",
       "      <td>Truck</td>\n",
       "      <td>Asia</td>\n",
       "      <td>All</td>\n",
       "      <td>3.4</td>\n",
       "      <td>6</td>\n",
       "      <td>190</td>\n",
       "      <td>14</td>\n",
       "      <td>17</td>\n",
       "      <td>4435</td>\n",
       "      <td>128</td>\n",
       "      <td>218</td>\n",
       "    </tr>\n",
       "    <tr>\n",
       "      <th>400</th>\n",
       "      <td>Toyota</td>\n",
       "      <td>Wagon</td>\n",
       "      <td>Asia</td>\n",
       "      <td>Front</td>\n",
       "      <td>1.8</td>\n",
       "      <td>4</td>\n",
       "      <td>130</td>\n",
       "      <td>29</td>\n",
       "      <td>36</td>\n",
       "      <td>2679</td>\n",
       "      <td>102</td>\n",
       "      <td>171</td>\n",
       "    </tr>\n",
       "  </tbody>\n",
       "</table>\n",
       "<p>152 rows × 12 columns</p>\n",
       "</div>"
      ],
      "text/plain": [
       "       Make    Type Origin DriveTrain  EngineSize  Cylinders  Horsepower  \\\n",
       "0     Acura     SUV   Asia        All         3.5          6         265   \n",
       "1     Acura   Sedan   Asia      Front         2.0          4         200   \n",
       "2     Acura   Sedan   Asia      Front         2.4          4         200   \n",
       "3     Acura   Sedan   Asia      Front         3.2          6         270   \n",
       "4     Acura   Sedan   Asia      Front         3.5          6         225   \n",
       "..      ...     ...    ...        ...         ...        ...         ...   \n",
       "396  Toyota  Sports   Asia       Rear         1.8          4         138   \n",
       "397  Toyota   Truck   Asia       Rear         2.4          4         142   \n",
       "398  Toyota   Truck   Asia       Rear         3.4          6         190   \n",
       "399  Toyota   Truck   Asia        All         3.4          6         190   \n",
       "400  Toyota   Wagon   Asia      Front         1.8          4         130   \n",
       "\n",
       "     Mileage_City  Mileage_Highway  Weight  Wheelbase  Length  \n",
       "0              17               23    4451        106     189  \n",
       "1              24               31    2778        101     172  \n",
       "2              22               29    3230        105     183  \n",
       "3              20               28    3575        108     186  \n",
       "4              18               24    3880        115     197  \n",
       "..            ...              ...     ...        ...     ...  \n",
       "396            26               32    2195         97     153  \n",
       "397            22               27    2750        103     191  \n",
       "398            16               18    3925        128     218  \n",
       "399            14               17    4435        128     218  \n",
       "400            29               36    2679        102     171  \n",
       "\n",
       "[152 rows x 12 columns]"
      ]
     },
     "execution_count": 48,
     "metadata": {},
     "output_type": "execute_result"
    }
   ],
   "source": [
    "cars_df.loc[cars_df['Origin'] == 'Asia', :]"
   ]
  },
  {
   "cell_type": "code",
   "execution_count": 49,
   "id": "e2bc2ffd-de4c-41eb-a621-0fc9cae0c296",
   "metadata": {},
   "outputs": [
    {
     "data": {
      "text/html": [
       "<div>\n",
       "<style scoped>\n",
       "    .dataframe tbody tr th:only-of-type {\n",
       "        vertical-align: middle;\n",
       "    }\n",
       "\n",
       "    .dataframe tbody tr th {\n",
       "        vertical-align: top;\n",
       "    }\n",
       "\n",
       "    .dataframe thead th {\n",
       "        text-align: right;\n",
       "    }\n",
       "</style>\n",
       "<table border=\"1\" class=\"dataframe\">\n",
       "  <thead>\n",
       "    <tr style=\"text-align: right;\">\n",
       "      <th></th>\n",
       "      <th>Make</th>\n",
       "      <th>Type</th>\n",
       "      <th>Origin</th>\n",
       "      <th>DriveTrain</th>\n",
       "      <th>EngineSize</th>\n",
       "      <th>Cylinders</th>\n",
       "      <th>Horsepower</th>\n",
       "      <th>Mileage_City</th>\n",
       "      <th>Mileage_Highway</th>\n",
       "      <th>Weight</th>\n",
       "      <th>Wheelbase</th>\n",
       "      <th>Length</th>\n",
       "    </tr>\n",
       "  </thead>\n",
       "  <tbody>\n",
       "    <tr>\n",
       "      <th>150</th>\n",
       "      <td>Honda</td>\n",
       "      <td>Hybrid</td>\n",
       "      <td>Asia</td>\n",
       "      <td>Front</td>\n",
       "      <td>2.0</td>\n",
       "      <td>3</td>\n",
       "      <td>73</td>\n",
       "      <td>60</td>\n",
       "      <td>66</td>\n",
       "      <td>1850</td>\n",
       "      <td>95</td>\n",
       "      <td>155</td>\n",
       "    </tr>\n",
       "    <tr>\n",
       "      <th>373</th>\n",
       "      <td>Toyota</td>\n",
       "      <td>Hybrid</td>\n",
       "      <td>Asia</td>\n",
       "      <td>Front</td>\n",
       "      <td>1.5</td>\n",
       "      <td>4</td>\n",
       "      <td>110</td>\n",
       "      <td>59</td>\n",
       "      <td>51</td>\n",
       "      <td>2890</td>\n",
       "      <td>106</td>\n",
       "      <td>175</td>\n",
       "    </tr>\n",
       "  </tbody>\n",
       "</table>\n",
       "</div>"
      ],
      "text/plain": [
       "       Make    Type Origin DriveTrain  EngineSize  Cylinders  Horsepower  \\\n",
       "150   Honda  Hybrid   Asia      Front         2.0          3          73   \n",
       "373  Toyota  Hybrid   Asia      Front         1.5          4         110   \n",
       "\n",
       "     Mileage_City  Mileage_Highway  Weight  Wheelbase  Length  \n",
       "150            60               66    1850         95     155  \n",
       "373            59               51    2890        106     175  "
      ]
     },
     "execution_count": 49,
     "metadata": {},
     "output_type": "execute_result"
    }
   ],
   "source": [
    "cars_df.loc[cars_df['Mileage_City'] > 50, :]"
   ]
  },
  {
   "cell_type": "markdown",
   "id": "fbfea13f-eb0f-478b-91bf-725f0a7eac45",
   "metadata": {},
   "source": [
    "#### Get the data based on the column dtypes."
   ]
  },
  {
   "cell_type": "code",
   "execution_count": 50,
   "id": "e484fb4d-96b4-483d-93cd-4b8a70ad212b",
   "metadata": {},
   "outputs": [
    {
     "data": {
      "text/plain": [
       "Make                object\n",
       "Type                object\n",
       "Origin              object\n",
       "DriveTrain          object\n",
       "EngineSize         float64\n",
       "Cylinders            int64\n",
       "Horsepower           int64\n",
       "Mileage_City         int64\n",
       "Mileage_Highway      int64\n",
       "Weight               int64\n",
       "Wheelbase            int64\n",
       "Length               int64\n",
       "dtype: object"
      ]
     },
     "execution_count": 50,
     "metadata": {},
     "output_type": "execute_result"
    }
   ],
   "source": [
    "cars_df.dtypes"
   ]
  },
  {
   "cell_type": "code",
   "execution_count": 51,
   "id": "2c856d50-b62b-4558-bc38-00bc0d6689fd",
   "metadata": {},
   "outputs": [],
   "source": [
    "cars_num_df = cars_df.select_dtypes(include=np.number)"
   ]
  },
  {
   "cell_type": "code",
   "execution_count": 52,
   "id": "28686f98-26b4-4408-8199-fd905228e598",
   "metadata": {},
   "outputs": [
    {
     "data": {
      "text/plain": [
       "EngineSize         float64\n",
       "Cylinders            int64\n",
       "Horsepower           int64\n",
       "Mileage_City         int64\n",
       "Mileage_Highway      int64\n",
       "Weight               int64\n",
       "Wheelbase            int64\n",
       "Length               int64\n",
       "dtype: object"
      ]
     },
     "execution_count": 52,
     "metadata": {},
     "output_type": "execute_result"
    }
   ],
   "source": [
    "cars_num_df.dtypes"
   ]
  },
  {
   "cell_type": "code",
   "execution_count": 53,
   "id": "53a3523d-6499-4d4a-babd-eff627c12e85",
   "metadata": {},
   "outputs": [
    {
     "data": {
      "text/plain": [
       "Index(['EngineSize', 'Cylinders', 'Horsepower', 'Mileage_City',\n",
       "       'Mileage_Highway', 'Weight', 'Wheelbase', 'Length'],\n",
       "      dtype='object')"
      ]
     },
     "execution_count": 53,
     "metadata": {},
     "output_type": "execute_result"
    }
   ],
   "source": [
    "num_columns = cars_num_df.columns\n",
    "\n",
    "num_columns"
   ]
  },
  {
   "cell_type": "code",
   "execution_count": 54,
   "id": "1b933a2b-0a94-4968-bb83-691ced760329",
   "metadata": {},
   "outputs": [],
   "source": [
    "cars_cat_df = cars_df.select_dtypes(exclude=np.number)"
   ]
  },
  {
   "cell_type": "code",
   "execution_count": 55,
   "id": "72c31f33-4041-4628-8120-6dd81106bd24",
   "metadata": {},
   "outputs": [
    {
     "data": {
      "text/plain": [
       "Make          object\n",
       "Type          object\n",
       "Origin        object\n",
       "DriveTrain    object\n",
       "dtype: object"
      ]
     },
     "execution_count": 55,
     "metadata": {},
     "output_type": "execute_result"
    }
   ],
   "source": [
    "cars_cat_df.dtypes"
   ]
  },
  {
   "cell_type": "markdown",
   "id": "41e8b40a-6fa7-49ba-82b4-e9ea5e618d69",
   "metadata": {},
   "source": [
    "## Handling non-numeric Data"
   ]
  },
  {
   "cell_type": "markdown",
   "id": "322d3d08-8dd0-40dc-b1a9-3a738a9f4002",
   "metadata": {},
   "source": [
    "The dataset main contain numerical and/or categorical variables.\n",
    "\n",
    "Most of the machine learning algorithms are designed to work on numerical data.\n",
    "\n",
    "**Types of encoding:**\n",
    "\n",
    "* n-1 dummy encoding\n",
    "* One-hot encoding\n",
    "* Label encoding\n",
    "* Ordinal encoding\n",
    "* Frequency encoding\n",
    "* Target encoding"
   ]
  },
  {
   "cell_type": "code",
   "execution_count": 56,
   "id": "b5e22573-ceee-4d73-b1e2-008bbe39483f",
   "metadata": {},
   "outputs": [
    {
     "data": {
      "text/html": [
       "<div>\n",
       "<style scoped>\n",
       "    .dataframe tbody tr th:only-of-type {\n",
       "        vertical-align: middle;\n",
       "    }\n",
       "\n",
       "    .dataframe tbody tr th {\n",
       "        vertical-align: top;\n",
       "    }\n",
       "\n",
       "    .dataframe thead th {\n",
       "        text-align: right;\n",
       "    }\n",
       "</style>\n",
       "<table border=\"1\" class=\"dataframe\">\n",
       "  <thead>\n",
       "    <tr style=\"text-align: right;\">\n",
       "      <th></th>\n",
       "      <th>Make</th>\n",
       "      <th>Type</th>\n",
       "      <th>Origin</th>\n",
       "      <th>DriveTrain</th>\n",
       "    </tr>\n",
       "  </thead>\n",
       "  <tbody>\n",
       "    <tr>\n",
       "      <th>0</th>\n",
       "      <td>Acura</td>\n",
       "      <td>SUV</td>\n",
       "      <td>Asia</td>\n",
       "      <td>All</td>\n",
       "    </tr>\n",
       "    <tr>\n",
       "      <th>1</th>\n",
       "      <td>Acura</td>\n",
       "      <td>Sedan</td>\n",
       "      <td>Asia</td>\n",
       "      <td>Front</td>\n",
       "    </tr>\n",
       "    <tr>\n",
       "      <th>2</th>\n",
       "      <td>Acura</td>\n",
       "      <td>Sedan</td>\n",
       "      <td>Asia</td>\n",
       "      <td>Front</td>\n",
       "    </tr>\n",
       "    <tr>\n",
       "      <th>3</th>\n",
       "      <td>Acura</td>\n",
       "      <td>Sedan</td>\n",
       "      <td>Asia</td>\n",
       "      <td>Front</td>\n",
       "    </tr>\n",
       "    <tr>\n",
       "      <th>4</th>\n",
       "      <td>Acura</td>\n",
       "      <td>Sedan</td>\n",
       "      <td>Asia</td>\n",
       "      <td>Front</td>\n",
       "    </tr>\n",
       "  </tbody>\n",
       "</table>\n",
       "</div>"
      ],
      "text/plain": [
       "    Make   Type Origin DriveTrain\n",
       "0  Acura    SUV   Asia        All\n",
       "1  Acura  Sedan   Asia      Front\n",
       "2  Acura  Sedan   Asia      Front\n",
       "3  Acura  Sedan   Asia      Front\n",
       "4  Acura  Sedan   Asia      Front"
      ]
     },
     "execution_count": 56,
     "metadata": {},
     "output_type": "execute_result"
    }
   ],
   "source": [
    "cars_cat_df.head()"
   ]
  },
  {
   "cell_type": "markdown",
   "id": "6e15260b-3ae2-4108-a031-cdec24444151",
   "metadata": {},
   "source": [
    "### (n-1) Dummy encoding"
   ]
  },
  {
   "cell_type": "code",
   "execution_count": 57,
   "id": "d3078c62-3c43-4621-a39e-1006e1c25203",
   "metadata": {},
   "outputs": [
    {
     "data": {
      "text/plain": [
       "array(['Hybrid', 'SUV', 'Sedan', 'Sports', 'Truck', 'Wagon'], dtype=object)"
      ]
     },
     "execution_count": 57,
     "metadata": {},
     "output_type": "execute_result"
    }
   ],
   "source": [
    "np.sort(cars_cat_df['Type'].unique())"
   ]
  },
  {
   "cell_type": "code",
   "execution_count": 58,
   "id": "3c0d58ac-f6e6-4c59-9d64-cca7cdf0f330",
   "metadata": {},
   "outputs": [
    {
     "data": {
      "text/html": [
       "<div>\n",
       "<style scoped>\n",
       "    .dataframe tbody tr th:only-of-type {\n",
       "        vertical-align: middle;\n",
       "    }\n",
       "\n",
       "    .dataframe tbody tr th {\n",
       "        vertical-align: top;\n",
       "    }\n",
       "\n",
       "    .dataframe thead th {\n",
       "        text-align: right;\n",
       "    }\n",
       "</style>\n",
       "<table border=\"1\" class=\"dataframe\">\n",
       "  <thead>\n",
       "    <tr style=\"text-align: right;\">\n",
       "      <th></th>\n",
       "      <th>Make</th>\n",
       "      <th>Origin</th>\n",
       "      <th>DriveTrain</th>\n",
       "      <th>Type_Hybrid</th>\n",
       "      <th>Type_SUV</th>\n",
       "      <th>Type_Sedan</th>\n",
       "      <th>Type_Sports</th>\n",
       "      <th>Type_Truck</th>\n",
       "      <th>Type_Wagon</th>\n",
       "    </tr>\n",
       "  </thead>\n",
       "  <tbody>\n",
       "    <tr>\n",
       "      <th>0</th>\n",
       "      <td>Acura</td>\n",
       "      <td>Asia</td>\n",
       "      <td>All</td>\n",
       "      <td>0</td>\n",
       "      <td>1</td>\n",
       "      <td>0</td>\n",
       "      <td>0</td>\n",
       "      <td>0</td>\n",
       "      <td>0</td>\n",
       "    </tr>\n",
       "    <tr>\n",
       "      <th>1</th>\n",
       "      <td>Acura</td>\n",
       "      <td>Asia</td>\n",
       "      <td>Front</td>\n",
       "      <td>0</td>\n",
       "      <td>0</td>\n",
       "      <td>1</td>\n",
       "      <td>0</td>\n",
       "      <td>0</td>\n",
       "      <td>0</td>\n",
       "    </tr>\n",
       "    <tr>\n",
       "      <th>2</th>\n",
       "      <td>Acura</td>\n",
       "      <td>Asia</td>\n",
       "      <td>Front</td>\n",
       "      <td>0</td>\n",
       "      <td>0</td>\n",
       "      <td>1</td>\n",
       "      <td>0</td>\n",
       "      <td>0</td>\n",
       "      <td>0</td>\n",
       "    </tr>\n",
       "    <tr>\n",
       "      <th>3</th>\n",
       "      <td>Acura</td>\n",
       "      <td>Asia</td>\n",
       "      <td>Front</td>\n",
       "      <td>0</td>\n",
       "      <td>0</td>\n",
       "      <td>1</td>\n",
       "      <td>0</td>\n",
       "      <td>0</td>\n",
       "      <td>0</td>\n",
       "    </tr>\n",
       "    <tr>\n",
       "      <th>4</th>\n",
       "      <td>Acura</td>\n",
       "      <td>Asia</td>\n",
       "      <td>Front</td>\n",
       "      <td>0</td>\n",
       "      <td>0</td>\n",
       "      <td>1</td>\n",
       "      <td>0</td>\n",
       "      <td>0</td>\n",
       "      <td>0</td>\n",
       "    </tr>\n",
       "    <tr>\n",
       "      <th>...</th>\n",
       "      <td>...</td>\n",
       "      <td>...</td>\n",
       "      <td>...</td>\n",
       "      <td>...</td>\n",
       "      <td>...</td>\n",
       "      <td>...</td>\n",
       "      <td>...</td>\n",
       "      <td>...</td>\n",
       "      <td>...</td>\n",
       "    </tr>\n",
       "    <tr>\n",
       "      <th>423</th>\n",
       "      <td>Volvo</td>\n",
       "      <td>Europe</td>\n",
       "      <td>Front</td>\n",
       "      <td>0</td>\n",
       "      <td>0</td>\n",
       "      <td>1</td>\n",
       "      <td>0</td>\n",
       "      <td>0</td>\n",
       "      <td>0</td>\n",
       "    </tr>\n",
       "    <tr>\n",
       "      <th>424</th>\n",
       "      <td>Volvo</td>\n",
       "      <td>Europe</td>\n",
       "      <td>Front</td>\n",
       "      <td>0</td>\n",
       "      <td>0</td>\n",
       "      <td>1</td>\n",
       "      <td>0</td>\n",
       "      <td>0</td>\n",
       "      <td>0</td>\n",
       "    </tr>\n",
       "    <tr>\n",
       "      <th>425</th>\n",
       "      <td>Volvo</td>\n",
       "      <td>Europe</td>\n",
       "      <td>Front</td>\n",
       "      <td>0</td>\n",
       "      <td>0</td>\n",
       "      <td>1</td>\n",
       "      <td>0</td>\n",
       "      <td>0</td>\n",
       "      <td>0</td>\n",
       "    </tr>\n",
       "    <tr>\n",
       "      <th>426</th>\n",
       "      <td>Volvo</td>\n",
       "      <td>Europe</td>\n",
       "      <td>Front</td>\n",
       "      <td>0</td>\n",
       "      <td>0</td>\n",
       "      <td>0</td>\n",
       "      <td>0</td>\n",
       "      <td>0</td>\n",
       "      <td>1</td>\n",
       "    </tr>\n",
       "    <tr>\n",
       "      <th>427</th>\n",
       "      <td>Volvo</td>\n",
       "      <td>Europe</td>\n",
       "      <td>All</td>\n",
       "      <td>0</td>\n",
       "      <td>0</td>\n",
       "      <td>0</td>\n",
       "      <td>0</td>\n",
       "      <td>0</td>\n",
       "      <td>1</td>\n",
       "    </tr>\n",
       "  </tbody>\n",
       "</table>\n",
       "<p>407 rows × 9 columns</p>\n",
       "</div>"
      ],
      "text/plain": [
       "      Make  Origin DriveTrain  Type_Hybrid  Type_SUV  Type_Sedan  Type_Sports  \\\n",
       "0    Acura    Asia        All            0         1           0            0   \n",
       "1    Acura    Asia      Front            0         0           1            0   \n",
       "2    Acura    Asia      Front            0         0           1            0   \n",
       "3    Acura    Asia      Front            0         0           1            0   \n",
       "4    Acura    Asia      Front            0         0           1            0   \n",
       "..     ...     ...        ...          ...       ...         ...          ...   \n",
       "423  Volvo  Europe      Front            0         0           1            0   \n",
       "424  Volvo  Europe      Front            0         0           1            0   \n",
       "425  Volvo  Europe      Front            0         0           1            0   \n",
       "426  Volvo  Europe      Front            0         0           0            0   \n",
       "427  Volvo  Europe        All            0         0           0            0   \n",
       "\n",
       "     Type_Truck  Type_Wagon  \n",
       "0             0           0  \n",
       "1             0           0  \n",
       "2             0           0  \n",
       "3             0           0  \n",
       "4             0           0  \n",
       "..          ...         ...  \n",
       "423           0           0  \n",
       "424           0           0  \n",
       "425           0           0  \n",
       "426           0           1  \n",
       "427           0           1  \n",
       "\n",
       "[407 rows x 9 columns]"
      ]
     },
     "execution_count": 58,
     "metadata": {},
     "output_type": "execute_result"
    }
   ],
   "source": [
    "pd.get_dummies(data=cars_cat_df, columns=['Type'], dtype=int)"
   ]
  },
  {
   "cell_type": "code",
   "execution_count": 59,
   "id": "924d9254-b067-4450-957e-03335ad262af",
   "metadata": {},
   "outputs": [
    {
     "data": {
      "text/html": [
       "<div>\n",
       "<style scoped>\n",
       "    .dataframe tbody tr th:only-of-type {\n",
       "        vertical-align: middle;\n",
       "    }\n",
       "\n",
       "    .dataframe tbody tr th {\n",
       "        vertical-align: top;\n",
       "    }\n",
       "\n",
       "    .dataframe thead th {\n",
       "        text-align: right;\n",
       "    }\n",
       "</style>\n",
       "<table border=\"1\" class=\"dataframe\">\n",
       "  <thead>\n",
       "    <tr style=\"text-align: right;\">\n",
       "      <th></th>\n",
       "      <th>Make</th>\n",
       "      <th>Origin</th>\n",
       "      <th>DriveTrain</th>\n",
       "      <th>Type_SUV</th>\n",
       "      <th>Type_Sedan</th>\n",
       "      <th>Type_Sports</th>\n",
       "      <th>Type_Truck</th>\n",
       "      <th>Type_Wagon</th>\n",
       "    </tr>\n",
       "  </thead>\n",
       "  <tbody>\n",
       "    <tr>\n",
       "      <th>0</th>\n",
       "      <td>Acura</td>\n",
       "      <td>Asia</td>\n",
       "      <td>All</td>\n",
       "      <td>1</td>\n",
       "      <td>0</td>\n",
       "      <td>0</td>\n",
       "      <td>0</td>\n",
       "      <td>0</td>\n",
       "    </tr>\n",
       "    <tr>\n",
       "      <th>1</th>\n",
       "      <td>Acura</td>\n",
       "      <td>Asia</td>\n",
       "      <td>Front</td>\n",
       "      <td>0</td>\n",
       "      <td>1</td>\n",
       "      <td>0</td>\n",
       "      <td>0</td>\n",
       "      <td>0</td>\n",
       "    </tr>\n",
       "    <tr>\n",
       "      <th>2</th>\n",
       "      <td>Acura</td>\n",
       "      <td>Asia</td>\n",
       "      <td>Front</td>\n",
       "      <td>0</td>\n",
       "      <td>1</td>\n",
       "      <td>0</td>\n",
       "      <td>0</td>\n",
       "      <td>0</td>\n",
       "    </tr>\n",
       "    <tr>\n",
       "      <th>3</th>\n",
       "      <td>Acura</td>\n",
       "      <td>Asia</td>\n",
       "      <td>Front</td>\n",
       "      <td>0</td>\n",
       "      <td>1</td>\n",
       "      <td>0</td>\n",
       "      <td>0</td>\n",
       "      <td>0</td>\n",
       "    </tr>\n",
       "    <tr>\n",
       "      <th>4</th>\n",
       "      <td>Acura</td>\n",
       "      <td>Asia</td>\n",
       "      <td>Front</td>\n",
       "      <td>0</td>\n",
       "      <td>1</td>\n",
       "      <td>0</td>\n",
       "      <td>0</td>\n",
       "      <td>0</td>\n",
       "    </tr>\n",
       "    <tr>\n",
       "      <th>...</th>\n",
       "      <td>...</td>\n",
       "      <td>...</td>\n",
       "      <td>...</td>\n",
       "      <td>...</td>\n",
       "      <td>...</td>\n",
       "      <td>...</td>\n",
       "      <td>...</td>\n",
       "      <td>...</td>\n",
       "    </tr>\n",
       "    <tr>\n",
       "      <th>423</th>\n",
       "      <td>Volvo</td>\n",
       "      <td>Europe</td>\n",
       "      <td>Front</td>\n",
       "      <td>0</td>\n",
       "      <td>1</td>\n",
       "      <td>0</td>\n",
       "      <td>0</td>\n",
       "      <td>0</td>\n",
       "    </tr>\n",
       "    <tr>\n",
       "      <th>424</th>\n",
       "      <td>Volvo</td>\n",
       "      <td>Europe</td>\n",
       "      <td>Front</td>\n",
       "      <td>0</td>\n",
       "      <td>1</td>\n",
       "      <td>0</td>\n",
       "      <td>0</td>\n",
       "      <td>0</td>\n",
       "    </tr>\n",
       "    <tr>\n",
       "      <th>425</th>\n",
       "      <td>Volvo</td>\n",
       "      <td>Europe</td>\n",
       "      <td>Front</td>\n",
       "      <td>0</td>\n",
       "      <td>1</td>\n",
       "      <td>0</td>\n",
       "      <td>0</td>\n",
       "      <td>0</td>\n",
       "    </tr>\n",
       "    <tr>\n",
       "      <th>426</th>\n",
       "      <td>Volvo</td>\n",
       "      <td>Europe</td>\n",
       "      <td>Front</td>\n",
       "      <td>0</td>\n",
       "      <td>0</td>\n",
       "      <td>0</td>\n",
       "      <td>0</td>\n",
       "      <td>1</td>\n",
       "    </tr>\n",
       "    <tr>\n",
       "      <th>427</th>\n",
       "      <td>Volvo</td>\n",
       "      <td>Europe</td>\n",
       "      <td>All</td>\n",
       "      <td>0</td>\n",
       "      <td>0</td>\n",
       "      <td>0</td>\n",
       "      <td>0</td>\n",
       "      <td>1</td>\n",
       "    </tr>\n",
       "  </tbody>\n",
       "</table>\n",
       "<p>407 rows × 8 columns</p>\n",
       "</div>"
      ],
      "text/plain": [
       "      Make  Origin DriveTrain  Type_SUV  Type_Sedan  Type_Sports  Type_Truck  \\\n",
       "0    Acura    Asia        All         1           0            0           0   \n",
       "1    Acura    Asia      Front         0           1            0           0   \n",
       "2    Acura    Asia      Front         0           1            0           0   \n",
       "3    Acura    Asia      Front         0           1            0           0   \n",
       "4    Acura    Asia      Front         0           1            0           0   \n",
       "..     ...     ...        ...       ...         ...          ...         ...   \n",
       "423  Volvo  Europe      Front         0           1            0           0   \n",
       "424  Volvo  Europe      Front         0           1            0           0   \n",
       "425  Volvo  Europe      Front         0           1            0           0   \n",
       "426  Volvo  Europe      Front         0           0            0           0   \n",
       "427  Volvo  Europe        All         0           0            0           0   \n",
       "\n",
       "     Type_Wagon  \n",
       "0             0  \n",
       "1             0  \n",
       "2             0  \n",
       "3             0  \n",
       "4             0  \n",
       "..          ...  \n",
       "423           0  \n",
       "424           0  \n",
       "425           0  \n",
       "426           1  \n",
       "427           1  \n",
       "\n",
       "[407 rows x 8 columns]"
      ]
     },
     "execution_count": 59,
     "metadata": {},
     "output_type": "execute_result"
    }
   ],
   "source": [
    "pd.get_dummies(data=cars_cat_df, columns=['Type'],drop_first=True, dtype=int)"
   ]
  },
  {
   "cell_type": "markdown",
   "id": "76224ced-4177-4a8f-a592-bd3f19b4107a",
   "metadata": {},
   "source": [
    "### One-hot encoding"
   ]
  },
  {
   "cell_type": "markdown",
   "id": "0618458b-fbac-4819-b352-13434ad7869e",
   "metadata": {},
   "source": [
    "For a categorical variable that can take k values, k dummy variables are created.\n",
    "\n",
    "Each category is converted into one column with values ‘0’ and ‘1’, depending on the \n",
    "presence or absence of the category in the corresponding observatio.n"
   ]
  },
  {
   "cell_type": "code",
   "execution_count": 60,
   "id": "c771f9d3-9121-4132-a6f4-7af8cce69edd",
   "metadata": {},
   "outputs": [
    {
     "data": {
      "text/plain": [
       "array(['Hybrid', 'SUV', 'Sedan', 'Sports', 'Truck', 'Wagon'], dtype=object)"
      ]
     },
     "execution_count": 60,
     "metadata": {},
     "output_type": "execute_result"
    }
   ],
   "source": [
    "np.sort(cars_cat_df['Type'].unique())"
   ]
  },
  {
   "cell_type": "code",
   "execution_count": 61,
   "id": "c13b1bce-e798-49cd-94ba-f18f13315f39",
   "metadata": {},
   "outputs": [],
   "source": [
    "from sklearn.preprocessing import OneHotEncoder"
   ]
  },
  {
   "cell_type": "code",
   "execution_count": 62,
   "id": "91cd90d5-2726-46fe-864a-aa593f636c49",
   "metadata": {},
   "outputs": [],
   "source": [
    "encode = OneHotEncoder()"
   ]
  },
  {
   "cell_type": "code",
   "execution_count": 63,
   "id": "37e4170f-0528-4a0b-bfd6-fcf7a279955c",
   "metadata": {},
   "outputs": [
    {
     "data": {
      "text/plain": [
       "array([[0., 1., 0., 0., 0., 0.],\n",
       "       [0., 0., 1., 0., 0., 0.],\n",
       "       [0., 0., 1., 0., 0., 0.],\n",
       "       ...,\n",
       "       [0., 0., 1., 0., 0., 0.],\n",
       "       [0., 0., 0., 0., 0., 1.],\n",
       "       [0., 0., 0., 0., 0., 1.]])"
      ]
     },
     "execution_count": 63,
     "metadata": {},
     "output_type": "execute_result"
    }
   ],
   "source": [
    "encode.fit_transform(cars_cat_df[['Type']]).toarray()"
   ]
  },
  {
   "cell_type": "code",
   "execution_count": 64,
   "id": "54bfbdc5-559c-4aaf-9fca-6755a9a51f5c",
   "metadata": {},
   "outputs": [],
   "source": [
    "cars_encode_df = pd.DataFrame(encode.fit_transform(cars_cat_df[['Type']]).toarray(),\n",
    "                        columns=np.sort(cars_cat_df['Type'].unique()))"
   ]
  },
  {
   "cell_type": "code",
   "execution_count": 65,
   "id": "47b560c7-4f8c-43ce-bbfa-453bf4de3073",
   "metadata": {},
   "outputs": [
    {
     "data": {
      "text/html": [
       "<div>\n",
       "<style scoped>\n",
       "    .dataframe tbody tr th:only-of-type {\n",
       "        vertical-align: middle;\n",
       "    }\n",
       "\n",
       "    .dataframe tbody tr th {\n",
       "        vertical-align: top;\n",
       "    }\n",
       "\n",
       "    .dataframe thead th {\n",
       "        text-align: right;\n",
       "    }\n",
       "</style>\n",
       "<table border=\"1\" class=\"dataframe\">\n",
       "  <thead>\n",
       "    <tr style=\"text-align: right;\">\n",
       "      <th></th>\n",
       "      <th>Hybrid</th>\n",
       "      <th>SUV</th>\n",
       "      <th>Sedan</th>\n",
       "      <th>Sports</th>\n",
       "      <th>Truck</th>\n",
       "      <th>Wagon</th>\n",
       "    </tr>\n",
       "  </thead>\n",
       "  <tbody>\n",
       "    <tr>\n",
       "      <th>0</th>\n",
       "      <td>0.0</td>\n",
       "      <td>1.0</td>\n",
       "      <td>0.0</td>\n",
       "      <td>0.0</td>\n",
       "      <td>0.0</td>\n",
       "      <td>0.0</td>\n",
       "    </tr>\n",
       "    <tr>\n",
       "      <th>1</th>\n",
       "      <td>0.0</td>\n",
       "      <td>0.0</td>\n",
       "      <td>1.0</td>\n",
       "      <td>0.0</td>\n",
       "      <td>0.0</td>\n",
       "      <td>0.0</td>\n",
       "    </tr>\n",
       "    <tr>\n",
       "      <th>2</th>\n",
       "      <td>0.0</td>\n",
       "      <td>0.0</td>\n",
       "      <td>1.0</td>\n",
       "      <td>0.0</td>\n",
       "      <td>0.0</td>\n",
       "      <td>0.0</td>\n",
       "    </tr>\n",
       "    <tr>\n",
       "      <th>3</th>\n",
       "      <td>0.0</td>\n",
       "      <td>0.0</td>\n",
       "      <td>1.0</td>\n",
       "      <td>0.0</td>\n",
       "      <td>0.0</td>\n",
       "      <td>0.0</td>\n",
       "    </tr>\n",
       "    <tr>\n",
       "      <th>4</th>\n",
       "      <td>0.0</td>\n",
       "      <td>0.0</td>\n",
       "      <td>1.0</td>\n",
       "      <td>0.0</td>\n",
       "      <td>0.0</td>\n",
       "      <td>0.0</td>\n",
       "    </tr>\n",
       "    <tr>\n",
       "      <th>...</th>\n",
       "      <td>...</td>\n",
       "      <td>...</td>\n",
       "      <td>...</td>\n",
       "      <td>...</td>\n",
       "      <td>...</td>\n",
       "      <td>...</td>\n",
       "    </tr>\n",
       "    <tr>\n",
       "      <th>402</th>\n",
       "      <td>0.0</td>\n",
       "      <td>0.0</td>\n",
       "      <td>1.0</td>\n",
       "      <td>0.0</td>\n",
       "      <td>0.0</td>\n",
       "      <td>0.0</td>\n",
       "    </tr>\n",
       "    <tr>\n",
       "      <th>403</th>\n",
       "      <td>0.0</td>\n",
       "      <td>0.0</td>\n",
       "      <td>1.0</td>\n",
       "      <td>0.0</td>\n",
       "      <td>0.0</td>\n",
       "      <td>0.0</td>\n",
       "    </tr>\n",
       "    <tr>\n",
       "      <th>404</th>\n",
       "      <td>0.0</td>\n",
       "      <td>0.0</td>\n",
       "      <td>1.0</td>\n",
       "      <td>0.0</td>\n",
       "      <td>0.0</td>\n",
       "      <td>0.0</td>\n",
       "    </tr>\n",
       "    <tr>\n",
       "      <th>405</th>\n",
       "      <td>0.0</td>\n",
       "      <td>0.0</td>\n",
       "      <td>0.0</td>\n",
       "      <td>0.0</td>\n",
       "      <td>0.0</td>\n",
       "      <td>1.0</td>\n",
       "    </tr>\n",
       "    <tr>\n",
       "      <th>406</th>\n",
       "      <td>0.0</td>\n",
       "      <td>0.0</td>\n",
       "      <td>0.0</td>\n",
       "      <td>0.0</td>\n",
       "      <td>0.0</td>\n",
       "      <td>1.0</td>\n",
       "    </tr>\n",
       "  </tbody>\n",
       "</table>\n",
       "<p>407 rows × 6 columns</p>\n",
       "</div>"
      ],
      "text/plain": [
       "     Hybrid  SUV  Sedan  Sports  Truck  Wagon\n",
       "0       0.0  1.0    0.0     0.0    0.0    0.0\n",
       "1       0.0  0.0    1.0     0.0    0.0    0.0\n",
       "2       0.0  0.0    1.0     0.0    0.0    0.0\n",
       "3       0.0  0.0    1.0     0.0    0.0    0.0\n",
       "4       0.0  0.0    1.0     0.0    0.0    0.0\n",
       "..      ...  ...    ...     ...    ...    ...\n",
       "402     0.0  0.0    1.0     0.0    0.0    0.0\n",
       "403     0.0  0.0    1.0     0.0    0.0    0.0\n",
       "404     0.0  0.0    1.0     0.0    0.0    0.0\n",
       "405     0.0  0.0    0.0     0.0    0.0    1.0\n",
       "406     0.0  0.0    0.0     0.0    0.0    1.0\n",
       "\n",
       "[407 rows x 6 columns]"
      ]
     },
     "execution_count": 65,
     "metadata": {},
     "output_type": "execute_result"
    }
   ],
   "source": [
    "cars_encode_df"
   ]
  },
  {
   "cell_type": "markdown",
   "id": "c79c5f4a-c382-45ce-9f19-9b937183cc72",
   "metadata": {},
   "source": [
    "### Label encoding"
   ]
  },
  {
   "cell_type": "markdown",
   "id": "9109b5db-86a0-4dd2-af27-b0aa246878f3",
   "metadata": {},
   "source": [
    "The LabelEncoder considers the levels in a categorical variable by alphabetical order \n",
    "for encodin.\n",
    "\n",
    "LabelEncoder labels different levels of the categorical variable with values between 0 \n",
    "and n-1, where ‘n’ is number of distinct categorie.sg"
   ]
  },
  {
   "cell_type": "code",
   "execution_count": 66,
   "id": "3b3c88b6-ea9b-4790-a4f1-3870d3bcb33a",
   "metadata": {},
   "outputs": [
    {
     "data": {
      "text/plain": [
       "array(['All', 'Front', 'Rear'], dtype=object)"
      ]
     },
     "execution_count": 66,
     "metadata": {},
     "output_type": "execute_result"
    }
   ],
   "source": [
    "np.sort(cars_cat_df['DriveTrain'].unique())"
   ]
  },
  {
   "cell_type": "code",
   "execution_count": 67,
   "id": "9e604fb4-8add-44c8-92db-81d9da3f7a75",
   "metadata": {},
   "outputs": [],
   "source": [
    "from sklearn.preprocessing import LabelEncoder"
   ]
  },
  {
   "cell_type": "code",
   "execution_count": 68,
   "id": "bfcd9e45-4d4b-4614-b5c1-8daa6bb9801a",
   "metadata": {},
   "outputs": [],
   "source": [
    "label_encoder = LabelEncoder()"
   ]
  },
  {
   "cell_type": "code",
   "execution_count": 69,
   "id": "09822fa0-8189-4aa2-919d-c4fd9c6e8777",
   "metadata": {},
   "outputs": [
    {
     "data": {
      "text/plain": [
       "array([0, 1, 1, 1, 1, 1, 2, 1, 1, 1, 0, 0, 1, 0, 1, 0, 0, 0, 0, 0, 1, 1,\n",
       "       0, 0, 0, 0, 0, 0, 2, 2, 2, 0, 2, 0, 2, 2, 2, 2, 2, 2, 2, 2, 2, 2,\n",
       "       0, 0, 1, 1, 1, 1, 1, 1, 1, 1, 1, 1, 2, 1, 1, 1, 2, 0, 1, 0, 1, 1,\n",
       "       1, 1, 1, 1, 1, 1, 1, 1, 1, 1, 1, 1, 0, 1, 2, 2, 0, 0, 2, 0, 2, 1,\n",
       "       1, 1, 1, 1, 1, 1, 1, 1, 1, 1, 1, 1, 1, 2, 2, 0, 1, 1, 1, 1, 1, 1,\n",
       "       1, 0, 2, 2, 2, 2, 0, 1, 0, 0, 1, 1, 1, 1, 1, 1, 1, 2, 2, 1, 2, 2,\n",
       "       1, 2, 0, 2, 1, 1, 1, 1, 0, 2, 2, 2, 0, 0, 1, 1, 0, 0, 0, 1, 1, 1,\n",
       "       1, 1, 1, 1, 1, 1, 1, 1, 2, 0, 1, 1, 1, 1, 1, 1, 1, 1, 1, 2, 2, 0,\n",
       "       1, 2, 2, 2, 0, 0, 1, 0, 0, 2, 2, 2, 2, 2, 2, 2, 2, 2, 1, 0, 0, 1,\n",
       "       1, 1, 1, 1, 1, 1, 1, 1, 1, 1, 0, 0, 0, 0, 0, 0, 1, 2, 2, 2, 2, 2,\n",
       "       2, 2, 0, 1, 2, 2, 2, 2, 1, 1, 0, 1, 1, 1, 1, 2, 2, 2, 2, 0, 0, 0,\n",
       "       2, 2, 2, 0, 2, 0, 2, 2, 2, 2, 2, 2, 2, 2, 0, 2, 2, 2, 2, 2, 2, 2,\n",
       "       0, 1, 1, 2, 1, 2, 1, 1, 0, 0, 1, 1, 1, 1, 1, 1, 1, 1, 1, 1, 1, 1,\n",
       "       1, 1, 1, 1, 1, 1, 1, 1, 1, 1, 1, 2, 2, 0, 0, 2, 1, 1, 1, 1, 1, 1,\n",
       "       1, 1, 1, 1, 0, 2, 2, 0, 2, 0, 2, 2, 2, 2, 1, 1, 1, 1, 1, 1, 0, 1,\n",
       "       1, 1, 1, 1, 1, 0, 0, 0, 0, 0, 0, 0, 0, 0, 0, 0, 1, 0, 1, 1, 1, 1,\n",
       "       0, 1, 0, 1, 0, 0, 0, 1, 1, 1, 1, 1, 1, 1, 1, 1, 1, 1, 1, 1, 1, 1,\n",
       "       1, 2, 2, 2, 0, 1, 0, 1, 1, 1, 1, 1, 1, 1, 1, 1, 1, 1, 1, 1, 1, 0,\n",
       "       1, 0, 1, 0, 1, 0, 1, 1, 1, 1, 0])"
      ]
     },
     "execution_count": 69,
     "metadata": {},
     "output_type": "execute_result"
    }
   ],
   "source": [
    "label_encoder.fit_transform(cars_cat_df['DriveTrain'])"
   ]
  },
  {
   "cell_type": "markdown",
   "id": "a0717d6b-d8ff-442b-8fd8-84e2e8041cd2",
   "metadata": {},
   "source": [
    "## Data Normalization"
   ]
  },
  {
   "cell_type": "markdown",
   "id": "98bad115-4810-4f45-98d6-f5458ae92b37",
   "metadata": {},
   "source": [
    "A technique used to transform the data into a common scale. Since the features\r\n",
    "have various ranges, it becomes a necessary step in data preprocessing while using\r\n",
    "machine learning algorithms"
   ]
  },
  {
   "cell_type": "code",
   "execution_count": 70,
   "id": "ce7a5ea1-3d3c-40ff-a0b1-8f901c72ea5d",
   "metadata": {},
   "outputs": [
    {
     "data": {
      "text/html": [
       "<div>\n",
       "<style scoped>\n",
       "    .dataframe tbody tr th:only-of-type {\n",
       "        vertical-align: middle;\n",
       "    }\n",
       "\n",
       "    .dataframe tbody tr th {\n",
       "        vertical-align: top;\n",
       "    }\n",
       "\n",
       "    .dataframe thead th {\n",
       "        text-align: right;\n",
       "    }\n",
       "</style>\n",
       "<table border=\"1\" class=\"dataframe\">\n",
       "  <thead>\n",
       "    <tr style=\"text-align: right;\">\n",
       "      <th></th>\n",
       "      <th>EngineSize</th>\n",
       "      <th>Cylinders</th>\n",
       "      <th>Horsepower</th>\n",
       "      <th>Mileage_City</th>\n",
       "      <th>Mileage_Highway</th>\n",
       "      <th>Weight</th>\n",
       "      <th>Wheelbase</th>\n",
       "      <th>Length</th>\n",
       "    </tr>\n",
       "  </thead>\n",
       "  <tbody>\n",
       "    <tr>\n",
       "      <th>count</th>\n",
       "      <td>407.000000</td>\n",
       "      <td>407.000000</td>\n",
       "      <td>407.000000</td>\n",
       "      <td>407.000000</td>\n",
       "      <td>407.000000</td>\n",
       "      <td>407.000000</td>\n",
       "      <td>407.00000</td>\n",
       "      <td>407.000000</td>\n",
       "    </tr>\n",
       "    <tr>\n",
       "      <th>mean</th>\n",
       "      <td>3.207371</td>\n",
       "      <td>5.813268</td>\n",
       "      <td>217.206388</td>\n",
       "      <td>19.985258</td>\n",
       "      <td>26.697789</td>\n",
       "      <td>3594.788698</td>\n",
       "      <td>108.19656</td>\n",
       "      <td>186.253071</td>\n",
       "    </tr>\n",
       "    <tr>\n",
       "      <th>std</th>\n",
       "      <td>1.112400</td>\n",
       "      <td>1.547132</td>\n",
       "      <td>72.558430</td>\n",
       "      <td>5.271896</td>\n",
       "      <td>5.754807</td>\n",
       "      <td>762.405497</td>\n",
       "      <td>8.36134</td>\n",
       "      <td>14.330110</td>\n",
       "    </tr>\n",
       "    <tr>\n",
       "      <th>min</th>\n",
       "      <td>1.300000</td>\n",
       "      <td>3.000000</td>\n",
       "      <td>73.000000</td>\n",
       "      <td>10.000000</td>\n",
       "      <td>12.000000</td>\n",
       "      <td>1850.000000</td>\n",
       "      <td>89.00000</td>\n",
       "      <td>143.000000</td>\n",
       "    </tr>\n",
       "    <tr>\n",
       "      <th>25%</th>\n",
       "      <td>2.400000</td>\n",
       "      <td>4.000000</td>\n",
       "      <td>165.000000</td>\n",
       "      <td>17.000000</td>\n",
       "      <td>24.000000</td>\n",
       "      <td>3119.000000</td>\n",
       "      <td>103.00000</td>\n",
       "      <td>178.000000</td>\n",
       "    </tr>\n",
       "    <tr>\n",
       "      <th>50%</th>\n",
       "      <td>3.000000</td>\n",
       "      <td>6.000000</td>\n",
       "      <td>210.000000</td>\n",
       "      <td>19.000000</td>\n",
       "      <td>26.000000</td>\n",
       "      <td>3477.000000</td>\n",
       "      <td>107.00000</td>\n",
       "      <td>187.000000</td>\n",
       "    </tr>\n",
       "    <tr>\n",
       "      <th>75%</th>\n",
       "      <td>3.850000</td>\n",
       "      <td>6.000000</td>\n",
       "      <td>259.000000</td>\n",
       "      <td>21.000000</td>\n",
       "      <td>29.000000</td>\n",
       "      <td>3982.000000</td>\n",
       "      <td>112.00000</td>\n",
       "      <td>194.000000</td>\n",
       "    </tr>\n",
       "    <tr>\n",
       "      <th>max</th>\n",
       "      <td>8.300000</td>\n",
       "      <td>12.000000</td>\n",
       "      <td>500.000000</td>\n",
       "      <td>60.000000</td>\n",
       "      <td>66.000000</td>\n",
       "      <td>7190.000000</td>\n",
       "      <td>144.00000</td>\n",
       "      <td>238.000000</td>\n",
       "    </tr>\n",
       "  </tbody>\n",
       "</table>\n",
       "</div>"
      ],
      "text/plain": [
       "       EngineSize   Cylinders  Horsepower  Mileage_City  Mileage_Highway  \\\n",
       "count  407.000000  407.000000  407.000000    407.000000       407.000000   \n",
       "mean     3.207371    5.813268  217.206388     19.985258        26.697789   \n",
       "std      1.112400    1.547132   72.558430      5.271896         5.754807   \n",
       "min      1.300000    3.000000   73.000000     10.000000        12.000000   \n",
       "25%      2.400000    4.000000  165.000000     17.000000        24.000000   \n",
       "50%      3.000000    6.000000  210.000000     19.000000        26.000000   \n",
       "75%      3.850000    6.000000  259.000000     21.000000        29.000000   \n",
       "max      8.300000   12.000000  500.000000     60.000000        66.000000   \n",
       "\n",
       "            Weight  Wheelbase      Length  \n",
       "count   407.000000  407.00000  407.000000  \n",
       "mean   3594.788698  108.19656  186.253071  \n",
       "std     762.405497    8.36134   14.330110  \n",
       "min    1850.000000   89.00000  143.000000  \n",
       "25%    3119.000000  103.00000  178.000000  \n",
       "50%    3477.000000  107.00000  187.000000  \n",
       "75%    3982.000000  112.00000  194.000000  \n",
       "max    7190.000000  144.00000  238.000000  "
      ]
     },
     "execution_count": 70,
     "metadata": {},
     "output_type": "execute_result"
    }
   ],
   "source": [
    "cars_num_df.describe()"
   ]
  },
  {
   "cell_type": "markdown",
   "id": "810e2f6d-66e5-444a-bffe-09889a20acfb",
   "metadata": {},
   "source": [
    "### Standard Scaler"
   ]
  },
  {
   "cell_type": "markdown",
   "id": "a2f143b2-d1d5-48b9-80f8-460c5411e378",
   "metadata": {},
   "source": [
    "Standardization transforms the data such that the data has mean 0 and unit variance."
   ]
  },
  {
   "cell_type": "code",
   "execution_count": 71,
   "id": "f16c1476-73ec-49b5-859f-0e7aa03381f0",
   "metadata": {},
   "outputs": [],
   "source": [
    "from sklearn.preprocessing import StandardScaler"
   ]
  },
  {
   "cell_type": "code",
   "execution_count": 72,
   "id": "0be675a8-e4a1-4cdb-9a22-9fd3d25e70c6",
   "metadata": {},
   "outputs": [],
   "source": [
    "scaler = StandardScaler()"
   ]
  },
  {
   "cell_type": "code",
   "execution_count": 73,
   "id": "b6f75dd2-b464-4be5-8cd4-6c54065157fb",
   "metadata": {},
   "outputs": [],
   "source": [
    "cars_num_df = pd.DataFrame(scaler.fit_transform(cars_num_df),\n",
    "                         columns=cars_num_df.columns)"
   ]
  },
  {
   "cell_type": "code",
   "execution_count": 74,
   "id": "ab126df4-2507-430f-827d-6ec90594f5e5",
   "metadata": {},
   "outputs": [
    {
     "data": {
      "text/html": [
       "<div>\n",
       "<style scoped>\n",
       "    .dataframe tbody tr th:only-of-type {\n",
       "        vertical-align: middle;\n",
       "    }\n",
       "\n",
       "    .dataframe tbody tr th {\n",
       "        vertical-align: top;\n",
       "    }\n",
       "\n",
       "    .dataframe thead th {\n",
       "        text-align: right;\n",
       "    }\n",
       "</style>\n",
       "<table border=\"1\" class=\"dataframe\">\n",
       "  <thead>\n",
       "    <tr style=\"text-align: right;\">\n",
       "      <th></th>\n",
       "      <th>EngineSize</th>\n",
       "      <th>Cylinders</th>\n",
       "      <th>Horsepower</th>\n",
       "      <th>Mileage_City</th>\n",
       "      <th>Mileage_Highway</th>\n",
       "      <th>Weight</th>\n",
       "      <th>Wheelbase</th>\n",
       "      <th>Length</th>\n",
       "    </tr>\n",
       "  </thead>\n",
       "  <tbody>\n",
       "    <tr>\n",
       "      <th>count</th>\n",
       "      <td>4.070000e+02</td>\n",
       "      <td>4.070000e+02</td>\n",
       "      <td>4.070000e+02</td>\n",
       "      <td>4.070000e+02</td>\n",
       "      <td>4.070000e+02</td>\n",
       "      <td>4.070000e+02</td>\n",
       "      <td>4.070000e+02</td>\n",
       "      <td>4.070000e+02</td>\n",
       "    </tr>\n",
       "    <tr>\n",
       "      <th>mean</th>\n",
       "      <td>2.094966e-16</td>\n",
       "      <td>3.229740e-16</td>\n",
       "      <td>1.047483e-16</td>\n",
       "      <td>1.658515e-16</td>\n",
       "      <td>-1.767628e-16</td>\n",
       "      <td>-9.601929e-17</td>\n",
       "      <td>-2.793288e-16</td>\n",
       "      <td>-1.047483e-16</td>\n",
       "    </tr>\n",
       "    <tr>\n",
       "      <th>std</th>\n",
       "      <td>1.001231e+00</td>\n",
       "      <td>1.001231e+00</td>\n",
       "      <td>1.001231e+00</td>\n",
       "      <td>1.001231e+00</td>\n",
       "      <td>1.001231e+00</td>\n",
       "      <td>1.001231e+00</td>\n",
       "      <td>1.001231e+00</td>\n",
       "      <td>1.001231e+00</td>\n",
       "    </tr>\n",
       "    <tr>\n",
       "      <th>min</th>\n",
       "      <td>-1.716756e+00</td>\n",
       "      <td>-1.820614e+00</td>\n",
       "      <td>-1.989898e+00</td>\n",
       "      <td>-1.896386e+00</td>\n",
       "      <td>-2.557145e+00</td>\n",
       "      <td>-2.291348e+00</td>\n",
       "      <td>-2.298697e+00</td>\n",
       "      <td>-3.022050e+00</td>\n",
       "    </tr>\n",
       "    <tr>\n",
       "      <th>25%</th>\n",
       "      <td>-7.266854e-01</td>\n",
       "      <td>-1.173461e+00</td>\n",
       "      <td>-7.203938e-01</td>\n",
       "      <td>-5.669558e-01</td>\n",
       "      <td>-4.693657e-01</td>\n",
       "      <td>-6.248306e-01</td>\n",
       "      <td>-6.222634e-01</td>\n",
       "      <td>-5.766340e-01</td>\n",
       "    </tr>\n",
       "    <tr>\n",
       "      <th>50%</th>\n",
       "      <td>-1.866471e-01</td>\n",
       "      <td>1.208443e-01</td>\n",
       "      <td>-9.944065e-02</td>\n",
       "      <td>-1.871188e-01</td>\n",
       "      <td>-1.214024e-01</td>\n",
       "      <td>-1.546863e-01</td>\n",
       "      <td>-1.432824e-01</td>\n",
       "      <td>5.218718e-02</td>\n",
       "    </tr>\n",
       "    <tr>\n",
       "      <th>75%</th>\n",
       "      <td>5.784071e-01</td>\n",
       "      <td>1.208443e-01</td>\n",
       "      <td>5.767083e-01</td>\n",
       "      <td>1.927183e-01</td>\n",
       "      <td>4.005425e-01</td>\n",
       "      <td>5.085061e-01</td>\n",
       "      <td>4.554439e-01</td>\n",
       "      <td>5.412703e-01</td>\n",
       "    </tr>\n",
       "    <tr>\n",
       "      <th>max</th>\n",
       "      <td>4.583691e+00</td>\n",
       "      <td>4.003762e+00</td>\n",
       "      <td>3.902257e+00</td>\n",
       "      <td>7.599541e+00</td>\n",
       "      <td>6.837863e+00</td>\n",
       "      <td>4.721419e+00</td>\n",
       "      <td>4.287292e+00</td>\n",
       "      <td>3.615507e+00</td>\n",
       "    </tr>\n",
       "  </tbody>\n",
       "</table>\n",
       "</div>"
      ],
      "text/plain": [
       "         EngineSize     Cylinders    Horsepower  Mileage_City  \\\n",
       "count  4.070000e+02  4.070000e+02  4.070000e+02  4.070000e+02   \n",
       "mean   2.094966e-16  3.229740e-16  1.047483e-16  1.658515e-16   \n",
       "std    1.001231e+00  1.001231e+00  1.001231e+00  1.001231e+00   \n",
       "min   -1.716756e+00 -1.820614e+00 -1.989898e+00 -1.896386e+00   \n",
       "25%   -7.266854e-01 -1.173461e+00 -7.203938e-01 -5.669558e-01   \n",
       "50%   -1.866471e-01  1.208443e-01 -9.944065e-02 -1.871188e-01   \n",
       "75%    5.784071e-01  1.208443e-01  5.767083e-01  1.927183e-01   \n",
       "max    4.583691e+00  4.003762e+00  3.902257e+00  7.599541e+00   \n",
       "\n",
       "       Mileage_Highway        Weight     Wheelbase        Length  \n",
       "count     4.070000e+02  4.070000e+02  4.070000e+02  4.070000e+02  \n",
       "mean     -1.767628e-16 -9.601929e-17 -2.793288e-16 -1.047483e-16  \n",
       "std       1.001231e+00  1.001231e+00  1.001231e+00  1.001231e+00  \n",
       "min      -2.557145e+00 -2.291348e+00 -2.298697e+00 -3.022050e+00  \n",
       "25%      -4.693657e-01 -6.248306e-01 -6.222634e-01 -5.766340e-01  \n",
       "50%      -1.214024e-01 -1.546863e-01 -1.432824e-01  5.218718e-02  \n",
       "75%       4.005425e-01  5.085061e-01  4.554439e-01  5.412703e-01  \n",
       "max       6.837863e+00  4.721419e+00  4.287292e+00  3.615507e+00  "
      ]
     },
     "execution_count": 74,
     "metadata": {},
     "output_type": "execute_result"
    }
   ],
   "source": [
    "cars_num_df.describe()"
   ]
  },
  {
   "cell_type": "markdown",
   "id": "27811c90-5ddf-4430-995f-d8fe69a639df",
   "metadata": {},
   "source": [
    "###  MinMax Scaler"
   ]
  },
  {
   "cell_type": "markdown",
   "id": "54df6cad-c9df-4ab6-b584-4de339b827b9",
   "metadata": {},
   "source": [
    "After normalization, all values will be between 0 and 1."
   ]
  },
  {
   "cell_type": "code",
   "execution_count": 75,
   "id": "bfebf8fc-9191-42f9-bb60-832d5bb8d1ec",
   "metadata": {},
   "outputs": [],
   "source": [
    "from sklearn.preprocessing import MinMaxScaler"
   ]
  },
  {
   "cell_type": "code",
   "execution_count": 76,
   "id": "6baaaff3-cc29-449e-a55b-913e4defc7cb",
   "metadata": {},
   "outputs": [],
   "source": [
    "scaler = MinMaxScaler()"
   ]
  },
  {
   "cell_type": "code",
   "execution_count": 77,
   "id": "ec7abc3f-d5ea-46cf-ae16-c8368fbd208b",
   "metadata": {},
   "outputs": [
    {
     "data": {
      "text/html": [
       "<div>\n",
       "<style scoped>\n",
       "    .dataframe tbody tr th:only-of-type {\n",
       "        vertical-align: middle;\n",
       "    }\n",
       "\n",
       "    .dataframe tbody tr th {\n",
       "        vertical-align: top;\n",
       "    }\n",
       "\n",
       "    .dataframe thead th {\n",
       "        text-align: right;\n",
       "    }\n",
       "</style>\n",
       "<table border=\"1\" class=\"dataframe\">\n",
       "  <thead>\n",
       "    <tr style=\"text-align: right;\">\n",
       "      <th></th>\n",
       "      <th>EngineSize</th>\n",
       "      <th>Cylinders</th>\n",
       "      <th>Horsepower</th>\n",
       "      <th>Mileage_City</th>\n",
       "      <th>Mileage_Highway</th>\n",
       "      <th>Weight</th>\n",
       "      <th>Wheelbase</th>\n",
       "      <th>Length</th>\n",
       "    </tr>\n",
       "  </thead>\n",
       "  <tbody>\n",
       "    <tr>\n",
       "      <th>0</th>\n",
       "      <td>0.314286</td>\n",
       "      <td>0.333333</td>\n",
       "      <td>0.449649</td>\n",
       "      <td>0.14</td>\n",
       "      <td>0.203704</td>\n",
       "      <td>0.487079</td>\n",
       "      <td>0.309091</td>\n",
       "      <td>0.484211</td>\n",
       "    </tr>\n",
       "    <tr>\n",
       "      <th>1</th>\n",
       "      <td>0.100000</td>\n",
       "      <td>0.111111</td>\n",
       "      <td>0.297424</td>\n",
       "      <td>0.28</td>\n",
       "      <td>0.351852</td>\n",
       "      <td>0.173783</td>\n",
       "      <td>0.218182</td>\n",
       "      <td>0.305263</td>\n",
       "    </tr>\n",
       "    <tr>\n",
       "      <th>2</th>\n",
       "      <td>0.157143</td>\n",
       "      <td>0.111111</td>\n",
       "      <td>0.297424</td>\n",
       "      <td>0.24</td>\n",
       "      <td>0.314815</td>\n",
       "      <td>0.258427</td>\n",
       "      <td>0.290909</td>\n",
       "      <td>0.421053</td>\n",
       "    </tr>\n",
       "    <tr>\n",
       "      <th>3</th>\n",
       "      <td>0.271429</td>\n",
       "      <td>0.333333</td>\n",
       "      <td>0.461358</td>\n",
       "      <td>0.20</td>\n",
       "      <td>0.296296</td>\n",
       "      <td>0.323034</td>\n",
       "      <td>0.345455</td>\n",
       "      <td>0.452632</td>\n",
       "    </tr>\n",
       "    <tr>\n",
       "      <th>4</th>\n",
       "      <td>0.314286</td>\n",
       "      <td>0.333333</td>\n",
       "      <td>0.355972</td>\n",
       "      <td>0.16</td>\n",
       "      <td>0.222222</td>\n",
       "      <td>0.380150</td>\n",
       "      <td>0.472727</td>\n",
       "      <td>0.568421</td>\n",
       "    </tr>\n",
       "    <tr>\n",
       "      <th>...</th>\n",
       "      <td>...</td>\n",
       "      <td>...</td>\n",
       "      <td>...</td>\n",
       "      <td>...</td>\n",
       "      <td>...</td>\n",
       "      <td>...</td>\n",
       "      <td>...</td>\n",
       "      <td>...</td>\n",
       "    </tr>\n",
       "    <tr>\n",
       "      <th>402</th>\n",
       "      <td>0.157143</td>\n",
       "      <td>0.222222</td>\n",
       "      <td>0.290398</td>\n",
       "      <td>0.22</td>\n",
       "      <td>0.296296</td>\n",
       "      <td>0.299625</td>\n",
       "      <td>0.290909</td>\n",
       "      <td>0.452632</td>\n",
       "    </tr>\n",
       "    <tr>\n",
       "      <th>403</th>\n",
       "      <td>0.142857</td>\n",
       "      <td>0.222222</td>\n",
       "      <td>0.395785</td>\n",
       "      <td>0.20</td>\n",
       "      <td>0.259259</td>\n",
       "      <td>0.299625</td>\n",
       "      <td>0.290909</td>\n",
       "      <td>0.452632</td>\n",
       "    </tr>\n",
       "    <tr>\n",
       "      <th>404</th>\n",
       "      <td>0.228571</td>\n",
       "      <td>0.333333</td>\n",
       "      <td>0.456674</td>\n",
       "      <td>0.18</td>\n",
       "      <td>0.259259</td>\n",
       "      <td>0.337640</td>\n",
       "      <td>0.381818</td>\n",
       "      <td>0.494737</td>\n",
       "    </tr>\n",
       "    <tr>\n",
       "      <th>405</th>\n",
       "      <td>0.085714</td>\n",
       "      <td>0.111111</td>\n",
       "      <td>0.227166</td>\n",
       "      <td>0.24</td>\n",
       "      <td>0.314815</td>\n",
       "      <td>0.182022</td>\n",
       "      <td>0.218182</td>\n",
       "      <td>0.389474</td>\n",
       "    </tr>\n",
       "    <tr>\n",
       "      <th>406</th>\n",
       "      <td>0.171429</td>\n",
       "      <td>0.222222</td>\n",
       "      <td>0.316159</td>\n",
       "      <td>0.20</td>\n",
       "      <td>0.277778</td>\n",
       "      <td>0.369476</td>\n",
       "      <td>0.363636</td>\n",
       "      <td>0.452632</td>\n",
       "    </tr>\n",
       "  </tbody>\n",
       "</table>\n",
       "<p>407 rows × 8 columns</p>\n",
       "</div>"
      ],
      "text/plain": [
       "     EngineSize  Cylinders  Horsepower  Mileage_City  Mileage_Highway  \\\n",
       "0      0.314286   0.333333    0.449649          0.14         0.203704   \n",
       "1      0.100000   0.111111    0.297424          0.28         0.351852   \n",
       "2      0.157143   0.111111    0.297424          0.24         0.314815   \n",
       "3      0.271429   0.333333    0.461358          0.20         0.296296   \n",
       "4      0.314286   0.333333    0.355972          0.16         0.222222   \n",
       "..          ...        ...         ...           ...              ...   \n",
       "402    0.157143   0.222222    0.290398          0.22         0.296296   \n",
       "403    0.142857   0.222222    0.395785          0.20         0.259259   \n",
       "404    0.228571   0.333333    0.456674          0.18         0.259259   \n",
       "405    0.085714   0.111111    0.227166          0.24         0.314815   \n",
       "406    0.171429   0.222222    0.316159          0.20         0.277778   \n",
       "\n",
       "       Weight  Wheelbase    Length  \n",
       "0    0.487079   0.309091  0.484211  \n",
       "1    0.173783   0.218182  0.305263  \n",
       "2    0.258427   0.290909  0.421053  \n",
       "3    0.323034   0.345455  0.452632  \n",
       "4    0.380150   0.472727  0.568421  \n",
       "..        ...        ...       ...  \n",
       "402  0.299625   0.290909  0.452632  \n",
       "403  0.299625   0.290909  0.452632  \n",
       "404  0.337640   0.381818  0.494737  \n",
       "405  0.182022   0.218182  0.389474  \n",
       "406  0.369476   0.363636  0.452632  \n",
       "\n",
       "[407 rows x 8 columns]"
      ]
     },
     "execution_count": 77,
     "metadata": {},
     "output_type": "execute_result"
    }
   ],
   "source": [
    "pd.DataFrame(scaler.fit_transform(cars_num_df),\n",
    "                         columns=cars_num_df.columns)"
   ]
  },
  {
   "cell_type": "code",
   "execution_count": 78,
   "id": "30e3f42f-38e5-43f5-a7bd-496eb12dd9a5",
   "metadata": {},
   "outputs": [
    {
     "data": {
      "text/html": [
       "<div>\n",
       "<style scoped>\n",
       "    .dataframe tbody tr th:only-of-type {\n",
       "        vertical-align: middle;\n",
       "    }\n",
       "\n",
       "    .dataframe tbody tr th {\n",
       "        vertical-align: top;\n",
       "    }\n",
       "\n",
       "    .dataframe thead th {\n",
       "        text-align: right;\n",
       "    }\n",
       "</style>\n",
       "<table border=\"1\" class=\"dataframe\">\n",
       "  <thead>\n",
       "    <tr style=\"text-align: right;\">\n",
       "      <th></th>\n",
       "      <th>EngineSize</th>\n",
       "      <th>Cylinders</th>\n",
       "      <th>Horsepower</th>\n",
       "      <th>Mileage_City</th>\n",
       "      <th>Mileage_Highway</th>\n",
       "      <th>Weight</th>\n",
       "      <th>Wheelbase</th>\n",
       "      <th>Length</th>\n",
       "    </tr>\n",
       "  </thead>\n",
       "  <tbody>\n",
       "    <tr>\n",
       "      <th>count</th>\n",
       "      <td>407.000000</td>\n",
       "      <td>407.000000</td>\n",
       "      <td>407.000000</td>\n",
       "      <td>407.000000</td>\n",
       "      <td>407.000000</td>\n",
       "      <td>407.000000</td>\n",
       "      <td>407.000000</td>\n",
       "      <td>407.000000</td>\n",
       "    </tr>\n",
       "    <tr>\n",
       "      <th>mean</th>\n",
       "      <td>0.272482</td>\n",
       "      <td>0.312585</td>\n",
       "      <td>0.337720</td>\n",
       "      <td>0.199705</td>\n",
       "      <td>0.272181</td>\n",
       "      <td>0.326739</td>\n",
       "      <td>0.349028</td>\n",
       "      <td>0.455295</td>\n",
       "    </tr>\n",
       "    <tr>\n",
       "      <th>std</th>\n",
       "      <td>0.158914</td>\n",
       "      <td>0.171904</td>\n",
       "      <td>0.169926</td>\n",
       "      <td>0.105438</td>\n",
       "      <td>0.106570</td>\n",
       "      <td>0.142773</td>\n",
       "      <td>0.152024</td>\n",
       "      <td>0.150843</td>\n",
       "    </tr>\n",
       "    <tr>\n",
       "      <th>min</th>\n",
       "      <td>0.000000</td>\n",
       "      <td>0.000000</td>\n",
       "      <td>0.000000</td>\n",
       "      <td>0.000000</td>\n",
       "      <td>0.000000</td>\n",
       "      <td>0.000000</td>\n",
       "      <td>0.000000</td>\n",
       "      <td>0.000000</td>\n",
       "    </tr>\n",
       "    <tr>\n",
       "      <th>25%</th>\n",
       "      <td>0.157143</td>\n",
       "      <td>0.111111</td>\n",
       "      <td>0.215457</td>\n",
       "      <td>0.140000</td>\n",
       "      <td>0.222222</td>\n",
       "      <td>0.237640</td>\n",
       "      <td>0.254545</td>\n",
       "      <td>0.368421</td>\n",
       "    </tr>\n",
       "    <tr>\n",
       "      <th>50%</th>\n",
       "      <td>0.242857</td>\n",
       "      <td>0.333333</td>\n",
       "      <td>0.320843</td>\n",
       "      <td>0.180000</td>\n",
       "      <td>0.259259</td>\n",
       "      <td>0.304682</td>\n",
       "      <td>0.327273</td>\n",
       "      <td>0.463158</td>\n",
       "    </tr>\n",
       "    <tr>\n",
       "      <th>75%</th>\n",
       "      <td>0.364286</td>\n",
       "      <td>0.333333</td>\n",
       "      <td>0.435597</td>\n",
       "      <td>0.220000</td>\n",
       "      <td>0.314815</td>\n",
       "      <td>0.399251</td>\n",
       "      <td>0.418182</td>\n",
       "      <td>0.536842</td>\n",
       "    </tr>\n",
       "    <tr>\n",
       "      <th>max</th>\n",
       "      <td>1.000000</td>\n",
       "      <td>1.000000</td>\n",
       "      <td>1.000000</td>\n",
       "      <td>1.000000</td>\n",
       "      <td>1.000000</td>\n",
       "      <td>1.000000</td>\n",
       "      <td>1.000000</td>\n",
       "      <td>1.000000</td>\n",
       "    </tr>\n",
       "  </tbody>\n",
       "</table>\n",
       "</div>"
      ],
      "text/plain": [
       "       EngineSize   Cylinders  Horsepower  Mileage_City  Mileage_Highway  \\\n",
       "count  407.000000  407.000000  407.000000    407.000000       407.000000   \n",
       "mean     0.272482    0.312585    0.337720      0.199705         0.272181   \n",
       "std      0.158914    0.171904    0.169926      0.105438         0.106570   \n",
       "min      0.000000    0.000000    0.000000      0.000000         0.000000   \n",
       "25%      0.157143    0.111111    0.215457      0.140000         0.222222   \n",
       "50%      0.242857    0.333333    0.320843      0.180000         0.259259   \n",
       "75%      0.364286    0.333333    0.435597      0.220000         0.314815   \n",
       "max      1.000000    1.000000    1.000000      1.000000         1.000000   \n",
       "\n",
       "           Weight   Wheelbase      Length  \n",
       "count  407.000000  407.000000  407.000000  \n",
       "mean     0.326739    0.349028    0.455295  \n",
       "std      0.142773    0.152024    0.150843  \n",
       "min      0.000000    0.000000    0.000000  \n",
       "25%      0.237640    0.254545    0.368421  \n",
       "50%      0.304682    0.327273    0.463158  \n",
       "75%      0.399251    0.418182    0.536842  \n",
       "max      1.000000    1.000000    1.000000  "
      ]
     },
     "execution_count": 78,
     "metadata": {},
     "output_type": "execute_result"
    }
   ],
   "source": [
    "pd.DataFrame(scaler.fit_transform(cars_num_df),\n",
    "                         columns=cars_num_df.columns).describe()"
   ]
  },
  {
   "cell_type": "markdown",
   "id": "adba7ffa-7f50-470e-acb9-6dc73715c65b",
   "metadata": {},
   "source": [
    "## Concatenating DataFrames"
   ]
  },
  {
   "cell_type": "code",
   "execution_count": 79,
   "id": "cf2e688b-bc8f-4870-b03c-c1f76ae74c32",
   "metadata": {},
   "outputs": [],
   "source": [
    "cars_df = pd.concat([cars_encode_df, cars_num_df], axis=1)"
   ]
  },
  {
   "cell_type": "code",
   "execution_count": 80,
   "id": "4e387a39-738d-4e09-9f47-be1471b20356",
   "metadata": {},
   "outputs": [
    {
     "data": {
      "text/html": [
       "<div>\n",
       "<style scoped>\n",
       "    .dataframe tbody tr th:only-of-type {\n",
       "        vertical-align: middle;\n",
       "    }\n",
       "\n",
       "    .dataframe tbody tr th {\n",
       "        vertical-align: top;\n",
       "    }\n",
       "\n",
       "    .dataframe thead th {\n",
       "        text-align: right;\n",
       "    }\n",
       "</style>\n",
       "<table border=\"1\" class=\"dataframe\">\n",
       "  <thead>\n",
       "    <tr style=\"text-align: right;\">\n",
       "      <th></th>\n",
       "      <th>Hybrid</th>\n",
       "      <th>SUV</th>\n",
       "      <th>Sedan</th>\n",
       "      <th>Sports</th>\n",
       "      <th>Truck</th>\n",
       "      <th>Wagon</th>\n",
       "      <th>EngineSize</th>\n",
       "      <th>Cylinders</th>\n",
       "      <th>Horsepower</th>\n",
       "      <th>Mileage_City</th>\n",
       "      <th>Mileage_Highway</th>\n",
       "      <th>Weight</th>\n",
       "      <th>Wheelbase</th>\n",
       "      <th>Length</th>\n",
       "    </tr>\n",
       "  </thead>\n",
       "  <tbody>\n",
       "    <tr>\n",
       "      <th>0</th>\n",
       "      <td>0.0</td>\n",
       "      <td>1.0</td>\n",
       "      <td>0.0</td>\n",
       "      <td>0.0</td>\n",
       "      <td>0.0</td>\n",
       "      <td>0.0</td>\n",
       "      <td>0.263385</td>\n",
       "      <td>0.120844</td>\n",
       "      <td>0.659502</td>\n",
       "      <td>-0.566956</td>\n",
       "      <td>-0.643347</td>\n",
       "      <td>1.124421</td>\n",
       "      <td>-0.263028</td>\n",
       "      <td>0.191925</td>\n",
       "    </tr>\n",
       "    <tr>\n",
       "      <th>1</th>\n",
       "      <td>0.0</td>\n",
       "      <td>0.0</td>\n",
       "      <td>1.0</td>\n",
       "      <td>0.0</td>\n",
       "      <td>0.0</td>\n",
       "      <td>0.0</td>\n",
       "      <td>-1.086711</td>\n",
       "      <td>-1.173461</td>\n",
       "      <td>-0.237430</td>\n",
       "      <td>0.762474</td>\n",
       "      <td>0.748506</td>\n",
       "      <td>-1.072650</td>\n",
       "      <td>-0.861754</td>\n",
       "      <td>-0.995848</td>\n",
       "    </tr>\n",
       "    <tr>\n",
       "      <th>2</th>\n",
       "      <td>0.0</td>\n",
       "      <td>0.0</td>\n",
       "      <td>1.0</td>\n",
       "      <td>0.0</td>\n",
       "      <td>0.0</td>\n",
       "      <td>0.0</td>\n",
       "      <td>-0.726685</td>\n",
       "      <td>-1.173461</td>\n",
       "      <td>-0.237430</td>\n",
       "      <td>0.382637</td>\n",
       "      <td>0.400543</td>\n",
       "      <td>-0.479060</td>\n",
       "      <td>-0.382773</td>\n",
       "      <td>-0.227289</td>\n",
       "    </tr>\n",
       "    <tr>\n",
       "      <th>3</th>\n",
       "      <td>0.0</td>\n",
       "      <td>0.0</td>\n",
       "      <td>1.0</td>\n",
       "      <td>0.0</td>\n",
       "      <td>0.0</td>\n",
       "      <td>0.0</td>\n",
       "      <td>-0.006634</td>\n",
       "      <td>0.120844</td>\n",
       "      <td>0.728497</td>\n",
       "      <td>0.002800</td>\n",
       "      <td>0.226561</td>\n",
       "      <td>-0.025988</td>\n",
       "      <td>-0.023537</td>\n",
       "      <td>-0.017682</td>\n",
       "    </tr>\n",
       "    <tr>\n",
       "      <th>4</th>\n",
       "      <td>0.0</td>\n",
       "      <td>0.0</td>\n",
       "      <td>1.0</td>\n",
       "      <td>0.0</td>\n",
       "      <td>0.0</td>\n",
       "      <td>0.0</td>\n",
       "      <td>0.263385</td>\n",
       "      <td>0.120844</td>\n",
       "      <td>0.107544</td>\n",
       "      <td>-0.377037</td>\n",
       "      <td>-0.469366</td>\n",
       "      <td>0.374554</td>\n",
       "      <td>0.814680</td>\n",
       "      <td>0.750877</td>\n",
       "    </tr>\n",
       "  </tbody>\n",
       "</table>\n",
       "</div>"
      ],
      "text/plain": [
       "   Hybrid  SUV  Sedan  Sports  Truck  Wagon  EngineSize  Cylinders  \\\n",
       "0     0.0  1.0    0.0     0.0    0.0    0.0    0.263385   0.120844   \n",
       "1     0.0  0.0    1.0     0.0    0.0    0.0   -1.086711  -1.173461   \n",
       "2     0.0  0.0    1.0     0.0    0.0    0.0   -0.726685  -1.173461   \n",
       "3     0.0  0.0    1.0     0.0    0.0    0.0   -0.006634   0.120844   \n",
       "4     0.0  0.0    1.0     0.0    0.0    0.0    0.263385   0.120844   \n",
       "\n",
       "   Horsepower  Mileage_City  Mileage_Highway    Weight  Wheelbase    Length  \n",
       "0    0.659502     -0.566956        -0.643347  1.124421  -0.263028  0.191925  \n",
       "1   -0.237430      0.762474         0.748506 -1.072650  -0.861754 -0.995848  \n",
       "2   -0.237430      0.382637         0.400543 -0.479060  -0.382773 -0.227289  \n",
       "3    0.728497      0.002800         0.226561 -0.025988  -0.023537 -0.017682  \n",
       "4    0.107544     -0.377037        -0.469366  0.374554   0.814680  0.750877  "
      ]
     },
     "execution_count": 80,
     "metadata": {},
     "output_type": "execute_result"
    }
   ],
   "source": [
    "cars_df.head()"
   ]
  },
  {
   "cell_type": "code",
   "execution_count": 81,
   "id": "5f234a15-4cd6-490b-ad44-ed94619c636a",
   "metadata": {},
   "outputs": [
    {
     "data": {
      "text/plain": [
       "(407, 14)"
      ]
     },
     "execution_count": 81,
     "metadata": {},
     "output_type": "execute_result"
    }
   ],
   "source": [
    "cars_df.shape"
   ]
  },
  {
   "cell_type": "markdown",
   "id": "2abe846c-f3d1-4446-b1eb-e9cb828976af",
   "metadata": {},
   "source": [
    "## Outlier Treatment"
   ]
  },
  {
   "cell_type": "code",
   "execution_count": 82,
   "id": "1fa3e52a-68c0-4c9d-99c5-cc8b85eb69c0",
   "metadata": {},
   "outputs": [
    {
     "data": {
      "image/png": "[encoded data removed]",
      "text/plain": [
       "<Figure size 1900x700 with 1 Axes>"
      ]
     },
     "metadata": {},
     "output_type": "display_data"
    }
   ],
   "source": [
    "plt.figure(figsize=(19, 7))\n",
    "\n",
    "sns.boxplot(cars_df)\n",
    "\n",
    "plt.grid()\n",
    "\n",
    "plt.show()"
   ]
  },
  {
   "cell_type": "markdown",
   "id": "9fbc0e04-4bf3-4a87-957f-6d512c140cb7",
   "metadata": {},
   "source": [
    "### Based on Inter Quartile Range (IQR)"
   ]
  },
  {
   "cell_type": "code",
   "execution_count": 83,
   "id": "7b231b9c-73c9-45c8-b80d-7171273ce450",
   "metadata": {},
   "outputs": [
    {
     "name": "stdout",
     "output_type": "stream",
     "text": [
      "Hybrid             0.000000\n",
      "SUV                0.000000\n",
      "Sedan              1.000000\n",
      "Sports             0.000000\n",
      "Truck              0.000000\n",
      "Wagon              0.000000\n",
      "EngineSize         1.305093\n",
      "Cylinders          1.294306\n",
      "Horsepower         1.297102\n",
      "Mileage_City       0.759674\n",
      "Mileage_Highway    0.869908\n",
      "Weight             1.133337\n",
      "Wheelbase          1.077707\n",
      "Length             1.117904\n",
      "dtype: float64\n"
     ]
    }
   ],
   "source": [
    "# obtain the first quartile\n",
    "Q1 = cars_df.quantile(0.25)\n",
    "\n",
    "# obtain the third quartile\n",
    "Q3 = cars_df.quantile(0.75)\n",
    "\n",
    "# obtain the IQR\n",
    "IQR = Q3 - Q1\n",
    "\n",
    "# print the IQR\n",
    "print(IQR)"
   ]
  },
  {
   "cell_type": "code",
   "execution_count": 84,
   "id": "2a320a72-9afe-4719-92c5-015a6c8af0b6",
   "metadata": {},
   "outputs": [],
   "source": [
    "ul = Q3 + 1.5 * IQR"
   ]
  },
  {
   "cell_type": "code",
   "execution_count": 85,
   "id": "b36fe1bb-823e-4df5-a047-9d0ea906aa92",
   "metadata": {},
   "outputs": [],
   "source": [
    "ll = Q1 - 1.5 * IQR"
   ]
  },
  {
   "cell_type": "markdown",
   "id": "30476301-ff3a-46e9-9b21-948ddc35a385",
   "metadata": {},
   "source": [
    "Any values above the upper limit or below the lower limit are considered as outliers.\n",
    "\n",
    "When outliers are present in the dataset, either delete them or replace them with appropriate value.\n",
    "\n",
    "When the dataset has huge number of rows, it is better to delete the outliers.\n",
    "\n",
    "When the dataset had less number of rows, deleting the outliers will affect the result."
   ]
  },
  {
   "cell_type": "markdown",
   "id": "4eebc820-70e0-4d8b-8f7a-91f04062cc7a",
   "metadata": {},
   "source": [
    "#### Deleting the outliers"
   ]
  },
  {
   "cell_type": "code",
   "execution_count": 86,
   "id": "cbfd1b3f-7d56-4057-910e-09f8a7e5c373",
   "metadata": {},
   "outputs": [],
   "source": [
    "cars_df = cars_df[~((cars_df < ll) |(cars_df > ul)).any(axis=1)]"
   ]
  },
  {
   "cell_type": "markdown",
   "id": "1ec14d71-6586-49fa-877e-8b053604b70a",
   "metadata": {},
   "source": [
    "#### Replacing the outlier by mean/median value"
   ]
  },
  {
   "cell_type": "code",
   "execution_count": 87,
   "id": "4bc6070b-6b8d-45f3-8dc0-66db9c5df7ab",
   "metadata": {},
   "outputs": [
    {
     "data": {
      "text/plain": [
       "\"\\ncars_df['EngineSize'] = np.where(\\n    (cars_df['EngineSize'] < ll['EngineSize']) | (cars_df['EngineSize'] > ul['EngineSize']), \\n    cars_df['EngineSize'].mean(), \\n    cars_df['EngineSize']\\n)\\n\""
      ]
     },
     "execution_count": 87,
     "metadata": {},
     "output_type": "execute_result"
    }
   ],
   "source": [
    "'''\n",
    "cars_df['EngineSize'] = np.where(\n",
    "    (cars_df['EngineSize'] < ll['EngineSize']) | (cars_df['EngineSize'] > ul['EngineSize']), \n",
    "    cars_df['EngineSize'].mean(), \n",
    "    cars_df['EngineSize']\n",
    ")\n",
    "'''"
   ]
  },
  {
   "cell_type": "code",
   "execution_count": 88,
   "id": "edaaddb8-b83c-46c3-bde8-6170e0f31908",
   "metadata": {},
   "outputs": [
    {
     "data": {
      "text/plain": [
       "'\\nfor column in num_columns:\\n    cars_df[column] = np.where(\\n    (cars_df[column] < ll[column]) | (cars_df[column] > ul[column]), \\n    cars_df[column].mean(), \\n    cars_df[column]\\n    )\\n'"
      ]
     },
     "execution_count": 88,
     "metadata": {},
     "output_type": "execute_result"
    }
   ],
   "source": [
    "'''\n",
    "for column in num_columns:\n",
    "    cars_df[column] = np.where(\n",
    "    (cars_df[column] < ll[column]) | (cars_df[column] > ul[column]), \n",
    "    cars_df[column].mean(), \n",
    "    cars_df[column]\n",
    "    )\n",
    "'''"
   ]
  },
  {
   "cell_type": "code",
   "execution_count": 89,
   "id": "7b88dd25-3fa6-48f2-b46c-35a07d7211bf",
   "metadata": {},
   "outputs": [
    {
     "data": {
      "image/png": "[encoded data removed]",
      "text/plain": [
       "<Figure size 1900x700 with 1 Axes>"
      ]
     },
     "metadata": {},
     "output_type": "display_data"
    }
   ],
   "source": [
    "plt.figure(figsize=(19, 7))\n",
    "\n",
    "sns.boxplot(cars_df)\n",
    "\n",
    "plt.grid()\n",
    "\n",
    "plt.show()"
   ]
  }
 ],
 "metadata": {
  "kernelspec": {
   "display_name": "Python 3 (ipykernel)",
   "language": "python",
   "name": "python3"
  },
  "language_info": {
   "codemirror_mode": {
    "name": "ipython",
    "version": 3
   },
   "file_extension": ".py",
   "mimetype": "text/x-python",
   "name": "python",
   "nbconvert_exporter": "python",
   "pygments_lexer": "ipython3",
   "version": "3.12.4"
  }
 },
 "nbformat": 4,
 "nbformat_minor": 5
}
